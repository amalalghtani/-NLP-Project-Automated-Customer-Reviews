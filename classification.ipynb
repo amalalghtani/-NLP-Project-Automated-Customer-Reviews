{
  "cells": [
    {
      "cell_type": "code",
      "source": [
        "import pandas as pd\n",
        "import re\n",
        "import matplotlib.pyplot as plt\n",
        "import seaborn as sns\n",
        "import numpy as np\n",
        "import torch\n",
        "from sklearn.model_selection import train_test_split\n",
        "from transformers import DistilBertTokenizer, DistilBertForSequenceClassification, Trainer, TrainingArguments, EarlyStoppingCallback\n",
        "from sklearn.metrics import classification_report, confusion_matrix\n",
        "from transformers import BertTokenizerFast, BertForSequenceClassification\n",
        "from transformers import BertTokenizer\n",
        "from transformers import BertForSequenceClassification\n",
        "from sklearn.metrics import accuracy_score, precision_recall_fscore_support\n",
        "from transformers import TrainingArguments\n",
        "from sklearn.metrics import confusion_matrix"
      ],
      "metadata": {
        "id": "LY4sBiqPd0wD"
      },
      "id": "LY4sBiqPd0wD",
      "execution_count": 1,
      "outputs": []
    },
    {
      "cell_type": "markdown",
      "source": [
        "# Read the file\n"
      ],
      "metadata": {
        "id": "WVSdzSyHfeQT"
      },
      "id": "WVSdzSyHfeQT"
    },
    {
      "cell_type": "code",
      "execution_count": 3,
      "id": "f9537fcd",
      "metadata": {
        "colab": {
          "base_uri": "https://localhost:8080/"
        },
        "id": "f9537fcd",
        "outputId": "ef9be889-c211-46e0-ba4f-c21f257dfacf"
      },
      "outputs": [
        {
          "output_type": "stream",
          "name": "stderr",
          "text": [
            "<ipython-input-3-68d3116372cc>:1: DtypeWarning: Columns (1,10) have mixed types. Specify dtype option on import or set low_memory=False.\n",
            "  df1= pd.read_csv(\"/content/1429_1.csv\")\n",
            "<ipython-input-3-68d3116372cc>:4: DtypeWarning: Columns (9,10,11,13) have mixed types. Specify dtype option on import or set low_memory=False.\n",
            "  df4 = pd.read_csv(\"/content/All_Beauty (2).csv\")\n"
          ]
        }
      ],
      "source": [
        "\n",
        "\n",
        "\n",
        "df1= pd.read_csv(\"/content/1429_1.csv\")\n",
        "df2 = pd.read_csv(\"/content/Datafiniti_Amazon_Consumer_Reviews_of_Amazon_Products.csv\")\n",
        "df3 = pd.read_csv(\"/content/Datafiniti_Amazon_Consumer_Reviews_of_Amazon_Products_May19.csv\")\n",
        "df4 = pd.read_csv(\"/content/All_Beauty (2).csv\")\n",
        "\n"
      ]
    },
    {
      "cell_type": "markdown",
      "source": [
        "\n",
        "# Merge data while keeping all columns"
      ],
      "metadata": {
        "id": "_ePFat6Wfubu"
      },
      "id": "_ePFat6Wfubu"
    },
    {
      "cell_type": "code",
      "source": [
        "\n",
        "combined_data = pd.concat([df1, df2, df3], ignore_index=True, join='outer')\n",
        "\n",
        "\n",
        "print(combined_data.info())\n",
        "print(combined_data.head())\n"
      ],
      "metadata": {
        "colab": {
          "base_uri": "https://localhost:8080/"
        },
        "id": "AjA1mbmlsZl-",
        "outputId": "e5e11325-9ba7-4457-a098-91b699d784b3"
      },
      "id": "AjA1mbmlsZl-",
      "execution_count": 4,
      "outputs": [
        {
          "output_type": "stream",
          "name": "stdout",
          "text": [
            "<class 'pandas.core.frame.DataFrame'>\n",
            "RangeIndex: 67992 entries, 0 to 67991\n",
            "Data columns (total 27 columns):\n",
            " #   Column                Non-Null Count  Dtype  \n",
            "---  ------                --------------  -----  \n",
            " 0   id                    67992 non-null  object \n",
            " 1   name                  61232 non-null  object \n",
            " 2   asins                 67990 non-null  object \n",
            " 3   brand                 67992 non-null  object \n",
            " 4   categories            67992 non-null  object \n",
            " 5   keys                  67992 non-null  object \n",
            " 6   manufacturer          67992 non-null  object \n",
            " 7   reviews.date          67953 non-null  object \n",
            " 8   reviews.dateAdded     25091 non-null  object \n",
            " 9   reviews.dateSeen      67992 non-null  object \n",
            " 10  reviews.didPurchase   10 non-null     object \n",
            " 11  reviews.doRecommend   55152 non-null  object \n",
            " 12  reviews.id            71 non-null     float64\n",
            " 13  reviews.numHelpful    55246 non-null  float64\n",
            " 14  reviews.rating        67959 non-null  float64\n",
            " 15  reviews.sourceURLs    67992 non-null  object \n",
            " 16  reviews.text          67991 non-null  object \n",
            " 17  reviews.title         67973 non-null  object \n",
            " 18  reviews.userCity      0 non-null      float64\n",
            " 19  reviews.userProvince  0 non-null      float64\n",
            " 20  reviews.username      67979 non-null  object \n",
            " 21  dateAdded             33332 non-null  object \n",
            " 22  dateUpdated           33332 non-null  object \n",
            " 23  primaryCategories     33332 non-null  object \n",
            " 24  imageURLs             33332 non-null  object \n",
            " 25  manufacturerNumber    33332 non-null  object \n",
            " 26  sourceURLs            33332 non-null  object \n",
            "dtypes: float64(5), object(22)\n",
            "memory usage: 14.0+ MB\n",
            "None\n",
            "                     id                                               name  \\\n",
            "0  AVqkIhwDv8e3D1O-lebb  All-New Fire HD 8 Tablet, 8 HD Display, Wi-Fi,...   \n",
            "1  AVqkIhwDv8e3D1O-lebb  All-New Fire HD 8 Tablet, 8 HD Display, Wi-Fi,...   \n",
            "2  AVqkIhwDv8e3D1O-lebb  All-New Fire HD 8 Tablet, 8 HD Display, Wi-Fi,...   \n",
            "3  AVqkIhwDv8e3D1O-lebb  All-New Fire HD 8 Tablet, 8 HD Display, Wi-Fi,...   \n",
            "4  AVqkIhwDv8e3D1O-lebb  All-New Fire HD 8 Tablet, 8 HD Display, Wi-Fi,...   \n",
            "\n",
            "        asins   brand                                         categories  \\\n",
            "0  B01AHB9CN2  Amazon  Electronics,iPad & Tablets,All Tablets,Fire Ta...   \n",
            "1  B01AHB9CN2  Amazon  Electronics,iPad & Tablets,All Tablets,Fire Ta...   \n",
            "2  B01AHB9CN2  Amazon  Electronics,iPad & Tablets,All Tablets,Fire Ta...   \n",
            "3  B01AHB9CN2  Amazon  Electronics,iPad & Tablets,All Tablets,Fire Ta...   \n",
            "4  B01AHB9CN2  Amazon  Electronics,iPad & Tablets,All Tablets,Fire Ta...   \n",
            "\n",
            "                                                keys manufacturer  \\\n",
            "0  841667104676,amazon/53004484,amazon/b01ahb9cn2...       Amazon   \n",
            "1  841667104676,amazon/53004484,amazon/b01ahb9cn2...       Amazon   \n",
            "2  841667104676,amazon/53004484,amazon/b01ahb9cn2...       Amazon   \n",
            "3  841667104676,amazon/53004484,amazon/b01ahb9cn2...       Amazon   \n",
            "4  841667104676,amazon/53004484,amazon/b01ahb9cn2...       Amazon   \n",
            "\n",
            "               reviews.date     reviews.dateAdded  \\\n",
            "0  2017-01-13T00:00:00.000Z  2017-07-03T23:33:15Z   \n",
            "1  2017-01-13T00:00:00.000Z  2017-07-03T23:33:15Z   \n",
            "2  2017-01-13T00:00:00.000Z  2017-07-03T23:33:15Z   \n",
            "3  2017-01-13T00:00:00.000Z  2017-07-03T23:33:15Z   \n",
            "4  2017-01-12T00:00:00.000Z  2017-07-03T23:33:15Z   \n",
            "\n",
            "                                    reviews.dateSeen  ...  \\\n",
            "0  2017-06-07T09:04:00.000Z,2017-04-30T00:45:00.000Z  ...   \n",
            "1  2017-06-07T09:04:00.000Z,2017-04-30T00:45:00.000Z  ...   \n",
            "2  2017-06-07T09:04:00.000Z,2017-04-30T00:45:00.000Z  ...   \n",
            "3  2017-06-07T09:04:00.000Z,2017-04-30T00:45:00.000Z  ...   \n",
            "4  2017-06-07T09:04:00.000Z,2017-04-30T00:45:00.000Z  ...   \n",
            "\n",
            "                             reviews.title reviews.userCity  \\\n",
            "0                                   Kindle              NaN   \n",
            "1                                very fast              NaN   \n",
            "2  Beginner tablet for our 9 year old son.              NaN   \n",
            "3                                  Good!!!              NaN   \n",
            "4                Fantastic Tablet for kids              NaN   \n",
            "\n",
            "   reviews.userProvince  reviews.username  dateAdded dateUpdated  \\\n",
            "0                   NaN           Adapter        NaN         NaN   \n",
            "1                   NaN            truman        NaN         NaN   \n",
            "2                   NaN             DaveZ        NaN         NaN   \n",
            "3                   NaN            Shacks        NaN         NaN   \n",
            "4                   NaN         explore42        NaN         NaN   \n",
            "\n",
            "  primaryCategories imageURLs  manufacturerNumber  sourceURLs  \n",
            "0               NaN       NaN                 NaN         NaN  \n",
            "1               NaN       NaN                 NaN         NaN  \n",
            "2               NaN       NaN                 NaN         NaN  \n",
            "3               NaN       NaN                 NaN         NaN  \n",
            "4               NaN       NaN                 NaN         NaN  \n",
            "\n",
            "[5 rows x 27 columns]\n"
          ]
        }
      ]
    },
    {
      "cell_type": "markdown",
      "source": [
        "# Keep only the text and rating columns\n"
      ],
      "metadata": {
        "id": "pQ2XqG8fgBnV"
      },
      "id": "pQ2XqG8fgBnV"
    },
    {
      "cell_type": "code",
      "source": [
        "combined_data = combined_data[['reviews.text', 'reviews.rating']]\n",
        "\n",
        "\n",
        "print(combined_data.info())\n",
        "print(combined_data.head())"
      ],
      "metadata": {
        "colab": {
          "base_uri": "https://localhost:8080/"
        },
        "id": "sTjKtNl2twiS",
        "outputId": "156a44b5-db7f-448e-bc75-0edc42cdaf65"
      },
      "id": "sTjKtNl2twiS",
      "execution_count": 5,
      "outputs": [
        {
          "output_type": "stream",
          "name": "stdout",
          "text": [
            "<class 'pandas.core.frame.DataFrame'>\n",
            "RangeIndex: 67992 entries, 0 to 67991\n",
            "Data columns (total 2 columns):\n",
            " #   Column          Non-Null Count  Dtype  \n",
            "---  ------          --------------  -----  \n",
            " 0   reviews.text    67991 non-null  object \n",
            " 1   reviews.rating  67959 non-null  float64\n",
            "dtypes: float64(1), object(1)\n",
            "memory usage: 1.0+ MB\n",
            "None\n",
            "                                        reviews.text  reviews.rating\n",
            "0  This product so far has not disappointed. My c...             5.0\n",
            "1  great for beginner or experienced person. Boug...             5.0\n",
            "2  Inexpensive tablet for him to use and learn on...             5.0\n",
            "3  I've had my Fire HD 8 two weeks now and I love...             4.0\n",
            "4  I bought this for my grand daughter when she c...             5.0\n"
          ]
        }
      ]
    },
    {
      "cell_type": "code",
      "source": [
        "df4 = df4[['text', 'rating']]\n",
        "print(df4.info())\n",
        "print(df4.head())\n"
      ],
      "metadata": {
        "colab": {
          "base_uri": "https://localhost:8080/"
        },
        "id": "uYsb5nC5t-mD",
        "outputId": "efa2939e-f3d0-4721-dc37-528dd3d247ee"
      },
      "id": "uYsb5nC5t-mD",
      "execution_count": 6,
      "outputs": [
        {
          "output_type": "stream",
          "name": "stdout",
          "text": [
            "<class 'pandas.core.frame.DataFrame'>\n",
            "RangeIndex: 759328 entries, 0 to 759327\n",
            "Data columns (total 2 columns):\n",
            " #   Column  Non-Null Count   Dtype  \n",
            "---  ------  --------------   -----  \n",
            " 0   text    759081 non-null  object \n",
            " 1   rating  759328 non-null  float64\n",
            "dtypes: float64(1), object(1)\n",
            "memory usage: 11.6+ MB\n",
            "None\n",
            "                                                text  rating\n",
            "0  This spray is really nice. It smells really go...     5.0\n",
            "1  This product does what I need it to do, I just...     4.0\n",
            "2                          Smells good, feels great!     5.0\n",
            "3                                     Felt synthetic     1.0\n",
            "4                                            Love it     5.0\n"
          ]
        }
      ]
    },
    {
      "cell_type": "markdown",
      "source": [
        "#Missing values"
      ],
      "metadata": {
        "id": "SdrtqXt5gszd"
      },
      "id": "SdrtqXt5gszd"
    },
    {
      "cell_type": "code",
      "source": [
        "missing_values = combined_data.isnull().sum()\n",
        "\n",
        "print(\"Missing values in each column:\")\n",
        "print(missing_values[missing_values > 0])"
      ],
      "metadata": {
        "colab": {
          "base_uri": "https://localhost:8080/"
        },
        "id": "BstP7NmqyoDR",
        "outputId": "de5ab7a3-c8b1-4867-a078-b37110cc49fd"
      },
      "id": "BstP7NmqyoDR",
      "execution_count": 7,
      "outputs": [
        {
          "output_type": "stream",
          "name": "stdout",
          "text": [
            "Missing values in each column:\n",
            "reviews.text       1\n",
            "reviews.rating    33\n",
            "dtype: int64\n"
          ]
        }
      ]
    },
    {
      "cell_type": "code",
      "source": [
        "missing_values = df4.isnull().sum()\n",
        "\n",
        "print(\"Missing values in each column:\")\n",
        "print(missing_values[missing_values > 0])"
      ],
      "metadata": {
        "colab": {
          "base_uri": "https://localhost:8080/"
        },
        "id": "kFY5Pdkiyu2h",
        "outputId": "65750a87-7b7f-43ee-9617-13461fd84662"
      },
      "id": "kFY5Pdkiyu2h",
      "execution_count": 8,
      "outputs": [
        {
          "output_type": "stream",
          "name": "stdout",
          "text": [
            "Missing values in each column:\n",
            "text    247\n",
            "dtype: int64\n"
          ]
        }
      ]
    },
    {
      "cell_type": "markdown",
      "source": [
        "\n",
        "\n",
        "#duplicates\n",
        "\n"
      ],
      "metadata": {
        "id": "N3owV_uTgxdq"
      },
      "id": "N3owV_uTgxdq"
    },
    {
      "cell_type": "code",
      "source": [
        "combined_data = combined_data.drop_duplicates()"
      ],
      "metadata": {
        "id": "6kAqGcv6zGQE"
      },
      "id": "6kAqGcv6zGQE",
      "execution_count": 9,
      "outputs": []
    },
    {
      "cell_type": "code",
      "source": [
        "df4 = df4.drop_duplicates()"
      ],
      "metadata": {
        "id": "zZSQsqSxzI_Y"
      },
      "id": "zZSQsqSxzI_Y",
      "execution_count": 10,
      "outputs": []
    },
    {
      "cell_type": "markdown",
      "source": [
        "#\n",
        "Text cleaning"
      ],
      "metadata": {
        "id": "xxzeoYfohFOf"
      },
      "id": "xxzeoYfohFOf"
    },
    {
      "cell_type": "code",
      "source": [
        "\n",
        "\n",
        "def clean_text(text):\n",
        "    if isinstance(text, float):\n",
        "        text = str(text)\n",
        "    text = text.lower()\n",
        "    text = re.sub(r'[^a-zA-Z0-9\\s]', '', text)\n",
        "    return text\n",
        "\n",
        "combined_data['cleaned_review'] =combined_data['reviews.text'].apply(clean_text)\n",
        "\n",
        "\n",
        "combined_data['sentiment'] = combined_data['reviews.rating'].apply(\n",
        "    lambda x: 'Negative' if x in [1, 2] else ('Neutral' if x == 3 else 'Positive')\n",
        ")\n",
        "\n",
        "\n",
        "combined_data['label'] =combined_data['sentiment'].map({'Negative': 0, 'Neutral': 1, 'Positive': 2})\n",
        "\n",
        "\n",
        "print(combined_data[['cleaned_review', 'sentiment', 'label']])\n",
        "df4['cleaned_review'] = df4['text'].apply(clean_text)\n",
        "df4['sentiment'] = df4['rating'].apply(lambda x: 'Negative' if x in [1, 2] else ('Neutral' if x == 3 else 'Positive'))\n",
        "df4['label'] = df4['sentiment'].map({'Negative': 0, 'Neutral': 1, 'Positive': 2})\n",
        "print(df4[['cleaned_review', 'sentiment', 'label']])"
      ],
      "metadata": {
        "colab": {
          "base_uri": "https://localhost:8080/"
        },
        "id": "ki7YuPmO4hRS",
        "outputId": "1417651d-7520-4d65-a1c6-8fd589546d3e"
      },
      "id": "ki7YuPmO4hRS",
      "execution_count": 11,
      "outputs": [
        {
          "output_type": "stream",
          "name": "stdout",
          "text": [
            "                                          cleaned_review sentiment  label\n",
            "0      this product so far has not disappointed my ch...  Positive      2\n",
            "1      great for beginner or experienced person bough...  Positive      2\n",
            "2      inexpensive tablet for him to use and learn on...  Positive      2\n",
            "3      ive had my fire hd 8 two weeks now and i love ...  Positive      2\n",
            "4      i bought this for my grand daughter when she c...  Positive      2\n",
            "...                                                  ...       ...    ...\n",
            "65546  i bought the kindle when i was in the usa but ...  Positive      2\n",
            "65547  i purchased my kindle2 in march of 09  and it ...  Negative      0\n",
            "65548  can someone explain to me why i can find hundr...  Negative      0\n",
            "66083  needed aninexpensive and portable alexa device...  Positive      2\n",
            "66790  bought this tablet for my fiance daughter afte...  Positive      2\n",
            "\n",
            "[47039 rows x 3 columns]\n",
            "                                           cleaned_review sentiment  label\n",
            "0       this spray is really nice it smells really goo...  Positive      2\n",
            "1       this product does what i need it to do i just ...  Positive      2\n",
            "2                                 smells good feels great  Positive      2\n",
            "3                                          felt synthetic  Negative      0\n",
            "4                                                 love it  Positive      2\n",
            "...                                                   ...       ...    ...\n",
            "736941  zero stars would be on par with this product i...  Negative      0\n",
            "741635  videoid242c62d5d45cf65471c2a860a5674857 love l...  Positive      2\n",
            "743977  very hard to apply the color does not stick ev...  Negative      0\n",
            "746420  let me first start by saying this hair is pret...   Neutral      1\n",
            "748812  its great i just wish the handle came with a grip   Neutral      1\n",
            "\n",
            "[646935 rows x 3 columns]\n"
          ]
        }
      ]
    },
    {
      "cell_type": "markdown",
      "source": [
        "# Extract reviews from data4"
      ],
      "metadata": {
        "id": "-ejYnNDFhkt5"
      },
      "id": "-ejYnNDFhkt5"
    },
    {
      "cell_type": "code",
      "source": [
        "neutral_reviews = df4[df4['sentiment'] == 'Neutral']\n",
        "negative_reviews = df4[df4['sentiment'] == 'Negative']\n",
        "positive_reviews = combined_data[combined_data['sentiment'] == 'Positive']\n",
        "\n",
        "\n"
      ],
      "metadata": {
        "id": "tyqRZyc6_c3U"
      },
      "id": "tyqRZyc6_c3U",
      "execution_count": 12,
      "outputs": []
    },
    {
      "cell_type": "markdown",
      "source": [
        "\n",
        "# Balance categories with the highest number of positive reviews"
      ],
      "metadata": {
        "id": "4vGdNneqh6tF"
      },
      "id": "4vGdNneqh6tF"
    },
    {
      "cell_type": "code",
      "source": [
        "\n",
        "max_positive_count = len(positive_reviews)\n",
        "\n",
        "\n",
        "balanced_positive = positive_reviews.sample(n=max_positive_count, replace=True, random_state=42)\n",
        "balanced_neutral = neutral_reviews.sample(n=max_positive_count, replace=True, random_state=42)\n",
        "balanced_negative = negative_reviews.sample(n=max_positive_count, replace=True, random_state=42)"
      ],
      "metadata": {
        "id": "aKFb3MxKhy_y"
      },
      "id": "aKFb3MxKhy_y",
      "execution_count": 13,
      "outputs": []
    },
    {
      "cell_type": "markdown",
      "source": [
        "\n",
        "# Merge balanced reviews"
      ],
      "metadata": {
        "id": "2ai1hKDEiSef"
      },
      "id": "2ai1hKDEiSef"
    },
    {
      "cell_type": "code",
      "source": [
        "\n",
        "balanced_data = pd.concat([balanced_positive, balanced_neutral, balanced_negative], ignore_index=True)\n"
      ],
      "metadata": {
        "id": "0BrNzKDPiCeM"
      },
      "id": "0BrNzKDPiCeM",
      "execution_count": 14,
      "outputs": []
    },
    {
      "cell_type": "markdown",
      "source": [
        "\n",
        "# Class distribution drawing\n"
      ],
      "metadata": {
        "id": "j_9qHntPiZDC"
      },
      "id": "j_9qHntPiZDC"
    },
    {
      "cell_type": "code",
      "source": [
        "\n",
        "plt.figure(figsize=(8, 6))\n",
        "sns.countplot(x='sentiment', data=balanced_data, palette='viridis')\n",
        "plt.title('Balanced Distribution of Sentiment Classes')\n",
        "plt.xlabel('Sentiment')\n",
        "plt.ylabel('Count')\n",
        "plt.xticks(rotation=45)\n",
        "plt.show()"
      ],
      "metadata": {
        "colab": {
          "base_uri": "https://localhost:8080/",
          "height": 691
        },
        "id": "molEd2X0_j5S",
        "outputId": "1df0fe4a-3b65-4535-970a-da3c72b4a762"
      },
      "id": "molEd2X0_j5S",
      "execution_count": 15,
      "outputs": [
        {
          "output_type": "stream",
          "name": "stderr",
          "text": [
            "<ipython-input-15-bb051b908893>:2: FutureWarning: \n",
            "\n",
            "Passing `palette` without assigning `hue` is deprecated and will be removed in v0.14.0. Assign the `x` variable to `hue` and set `legend=False` for the same effect.\n",
            "\n",
            "  sns.countplot(x='sentiment', data=balanced_data, palette='viridis')\n"
          ]
        },
        {
          "output_type": "display_data",
          "data": {
            "text/plain": [
              "<Figure size 800x600 with 1 Axes>"
            ],
            "image/png": "[encoded data removed]"
          },
          "metadata": {}
        }
      ]
    },
    {
      "cell_type": "code",
      "source": [
        "important_columns = ['sentiment', 'cleaned_review','label']\n",
        "\n",
        "balanced_data= balanced_data[important_columns]"
      ],
      "metadata": {
        "id": "lqPlYuyAAgPB"
      },
      "id": "lqPlYuyAAgPB",
      "execution_count": 18,
      "outputs": []
    },
    {
      "cell_type": "markdown",
      "source": [
        "# Splitting data into features (X) and targets (y)"
      ],
      "metadata": {
        "id": "qScu4AHFjBCj"
      },
      "id": "qScu4AHFjBCj"
    },
    {
      "cell_type": "code",
      "source": [
        "X = balanced_data['cleaned_review']\n",
        "y = balanced_data['label']\n"
      ],
      "metadata": {
        "id": "UHnY3AwGBmBK"
      },
      "id": "UHnY3AwGBmBK",
      "execution_count": 19,
      "outputs": []
    },
    {
      "cell_type": "markdown",
      "source": [
        "\n",
        "# Splitting the data into a training and test set"
      ],
      "metadata": {
        "id": "l0FWcpnbjPna"
      },
      "id": "l0FWcpnbjPna"
    },
    {
      "cell_type": "code",
      "source": [
        "X_train, X_test, y_train, y_test = train_test_split(X, y, test_size=0.2, random_state=42)\n",
        "\n",
        "print(f\"Training set size: {len(X_train)}\")\n",
        "print(f\"Test set size: {len(X_test)}\")"
      ],
      "metadata": {
        "colab": {
          "base_uri": "https://localhost:8080/"
        },
        "id": "9dRcNnMejY64",
        "outputId": "6b812114-ee3c-4396-8424-43d694a4eb9a"
      },
      "id": "9dRcNnMejY64",
      "execution_count": 20,
      "outputs": [
        {
          "output_type": "stream",
          "name": "stdout",
          "text": [
            "Training set size: 103507\n",
            "Test set size: 25877\n"
          ]
        }
      ]
    },
    {
      "cell_type": "markdown",
      "source": [
        "#\n",
        "Download Tokenizer"
      ],
      "metadata": {
        "id": "tYs8Qh0ij8yb"
      },
      "id": "tYs8Qh0ij8yb"
    },
    {
      "cell_type": "code",
      "source": [
        "tokenizer = BertTokenizer.from_pretrained('bert-base-uncased')\n",
        "\n",
        "train_encodings = tokenizer(list(X_train), truncation=True, padding=True, max_length=128)\n",
        "test_encodings = tokenizer(list(X_test), truncation=True, padding=True, max_length=128)"
      ],
      "metadata": {
        "colab": {
          "base_uri": "https://localhost:8080/",
          "height": 269,
          "referenced_widgets": [
            "614b087586734e97bae6414e9039f92d",
            "5da8c45efa4842cab53b5f47e8764ce2",
            "15d1bb00794c4858b3355571e5b78fb1",
            "fa033c83095c4aba96bd7bb730f62e91",
            "9f11ca6836b74a438b9ccdf8da4229ce",
            "a177495dc01c4345b2ca802a6febcb9f",
            "e3099844be854882849bfefca8b6c35f",
            "1d9165ef8d9d4def8fa4e1f7eff52cf0",
            "4847e3bed2b24987bbc0f9138f27bb58",
            "93e1751bc4324c699526f29f3e478153",
            "68e03766bb4f4ebc882c3bc9d6a920a3",
            "5ad10081c4a649838c1ee249584bf733",
            "1ebda8e9f9304b309dcde62105d1cd8c",
            "61d1766bb844407eb6f2a48b167ca528",
            "aef92979ae674b2ebf435e44d7c56141",
            "67b2a1a5e27e4dfd8abcb9d34a9ca725",
            "e975361e89ae4a1e9144fac851724fba",
            "fa9958f920b645f684b8c2e23f697cf7",
            "1e9f29ff090c4db2ad5ffece95ffe86c",
            "ad5fbc486da141419514b01c24ceb407",
            "d440a284545243e78e7408ed57b721e0",
            "5c3915cf33cd47a3b77a89dfe88634aa",
            "81423cf752d84e8e88a1cc0373d8bb9a",
            "3bab2e15951c4776b980a20cc46c4306",
            "15c57419616e43e18f8f6922a200df8a",
            "c45bcf5a8e924b1a93032a841d5142d4",
            "a54aa8c1acff4717ac966f22de40be81",
            "35bb0983f2864d11893326927d47b189",
            "ecebff213f614c11a4b08a3f3cd93554",
            "16ed7695b91d499985e867e66ab09b15",
            "a7c2215f457f4006aae72239287abdd1",
            "5abc32fe397c46ce92c2abb12ca972a1",
            "a771d1b9ac4e40ffa268adde4b1bc95a",
            "bdf6b9054a21478095bd18921a377433",
            "9c7ace17f6214aa3aabc7647ca787628",
            "29059ebcfe07411e99a82e66ac7b6fff",
            "abee0458c97e4253a412fa77b17be960",
            "f178ee6bc37649e089edc5b8044abe50",
            "e2df8ad7b97648b5b091e1f965eede9a",
            "db5e2f8302bc4f818e63c7073cd31cb3",
            "471e2b44e61c4c948aeaaae4947ea064",
            "2f438d99b57c412e881ce704f703f7eb",
            "1a1ee6cda8c94c2c98d402caea38621e",
            "64c6f8c065d943dd8a2b8fa4b779b273"
          ]
        },
        "id": "vmBR07LCHT9g",
        "outputId": "95d95c0f-4c0e-4632-82c1-477fcc029eee"
      },
      "id": "vmBR07LCHT9g",
      "execution_count": 21,
      "outputs": [
        {
          "output_type": "stream",
          "name": "stderr",
          "text": [
            "/usr/local/lib/python3.11/dist-packages/huggingface_hub/utils/_auth.py:94: UserWarning: \n",
            "The secret `HF_TOKEN` does not exist in your Colab secrets.\n",
            "To authenticate with the Hugging Face Hub, create a token in your settings tab (https://huggingface.co/settings/tokens), set it as secret in your Google Colab and restart your session.\n",
            "You will be able to reuse this secret in all of your notebooks.\n",
            "Please note that authentication is recommended but still optional to access public models or datasets.\n",
            "  warnings.warn(\n"
          ]
        },
        {
          "output_type": "display_data",
          "data": {
            "text/plain": [
              "tokenizer_config.json:   0%|          | 0.00/48.0 [00:00<?, ?B/s]"
            ],
            "application/vnd.jupyter.widget-view+json": {
              "version_major": 2,
              "version_minor": 0,
              "model_id": "614b087586734e97bae6414e9039f92d"
            }
          },
          "metadata": {}
        },
        {
          "output_type": "display_data",
          "data": {
            "text/plain": [
              "vocab.txt:   0%|          | 0.00/232k [00:00<?, ?B/s]"
            ],
            "application/vnd.jupyter.widget-view+json": {
              "version_major": 2,
              "version_minor": 0,
              "model_id": "5ad10081c4a649838c1ee249584bf733"
            }
          },
          "metadata": {}
        },
        {
          "output_type": "display_data",
          "data": {
            "text/plain": [
              "tokenizer.json:   0%|          | 0.00/466k [00:00<?, ?B/s]"
            ],
            "application/vnd.jupyter.widget-view+json": {
              "version_major": 2,
              "version_minor": 0,
              "model_id": "81423cf752d84e8e88a1cc0373d8bb9a"
            }
          },
          "metadata": {}
        },
        {
          "output_type": "display_data",
          "data": {
            "text/plain": [
              "config.json:   0%|          | 0.00/570 [00:00<?, ?B/s]"
            ],
            "application/vnd.jupyter.widget-view+json": {
              "version_major": 2,
              "version_minor": 0,
              "model_id": "bdf6b9054a21478095bd18921a377433"
            }
          },
          "metadata": {}
        }
      ]
    },
    {
      "cell_type": "markdown",
      "source": [
        "\n",
        "#Encrypted data storage and classifications"
      ],
      "metadata": {
        "id": "sdcJEk6rlAiL"
      },
      "id": "sdcJEk6rlAiL"
    },
    {
      "cell_type": "code",
      "source": [
        "\n",
        "\n",
        "class ReviewDataset(torch.utils.data.Dataset):\n",
        "    def __init__(self, encodings, labels):\n",
        "        self.encodings = encodings\n",
        "        self.labels = labels\n",
        "\n",
        "    def __getitem__(self, idx):\n",
        "        item = {key: torch.tensor(val[idx]) for key, val in self.encodings.items()}\n",
        "        item['labels'] = torch.tensor(self.labels[idx])\n",
        "        return item\n",
        "\n",
        "    def __len__(self):\n",
        "        return len(self.labels)\n"
      ],
      "metadata": {
        "id": "VERo4fY0H9mp"
      },
      "id": "VERo4fY0H9mp",
      "execution_count": 22,
      "outputs": []
    },
    {
      "cell_type": "markdown",
      "source": [
        "# Prepare data sets\n"
      ],
      "metadata": {
        "id": "MSgE0L1QkKtQ"
      },
      "id": "MSgE0L1QkKtQ"
    },
    {
      "cell_type": "code",
      "source": [
        "\n",
        "train_dataset = ReviewDataset(train_encodings, y_train.tolist())\n",
        "test_dataset = ReviewDataset(test_encodings, y_test.tolist())"
      ],
      "metadata": {
        "id": "BKGakFWEkEyi"
      },
      "id": "BKGakFWEkEyi",
      "execution_count": 23,
      "outputs": []
    },
    {
      "cell_type": "markdown",
      "source": [
        "\n",
        "# Download the BERT model"
      ],
      "metadata": {
        "id": "ulyc7Pu-kSxQ"
      },
      "id": "ulyc7Pu-kSxQ"
    },
    {
      "cell_type": "code",
      "source": [
        "model = BertForSequenceClassification.from_pretrained('bert-base-uncased', num_labels=3)"
      ],
      "metadata": {
        "colab": {
          "base_uri": "https://localhost:8080/",
          "height": 138,
          "referenced_widgets": [
            "1ee8ceb0d4714693b6b51196c27149d1",
            "2ce2ae4d001345aa902bf7f015005201",
            "33bfde32e95740698ffb8436c7d71179",
            "b8257786908c41e19d8551ae8ddc31be",
            "f4934ac5b8e84ce8ba2374d3117cbf31",
            "1d0ba77a3f4445af83ac6985ae35ba08",
            "d620d1d9ab204e158e4d1ac5ebb1f647",
            "c1cf6278d6874489adb9e230b7674bcd",
            "0e5dce0dfe79442994a93b9c75b10994",
            "69310f7f8ad84dc9af8b1ee584c0d2e6",
            "28289463d5cc48cbaccd350487f71468"
          ]
        },
        "id": "ComBi4WAICHF",
        "outputId": "727da540-dd71-4b9b-e971-35bd37c97cc1"
      },
      "id": "ComBi4WAICHF",
      "execution_count": 24,
      "outputs": [
        {
          "output_type": "stream",
          "name": "stderr",
          "text": [
            "Xet Storage is enabled for this repo, but the 'hf_xet' package is not installed. Falling back to regular HTTP download. For better performance, install the package with: `pip install huggingface_hub[hf_xet]` or `pip install hf_xet`\n",
            "WARNING:huggingface_hub.file_download:Xet Storage is enabled for this repo, but the 'hf_xet' package is not installed. Falling back to regular HTTP download. For better performance, install the package with: `pip install huggingface_hub[hf_xet]` or `pip install hf_xet`\n"
          ]
        },
        {
          "output_type": "display_data",
          "data": {
            "text/plain": [
              "model.safetensors:   0%|          | 0.00/440M [00:00<?, ?B/s]"
            ],
            "application/vnd.jupyter.widget-view+json": {
              "version_major": 2,
              "version_minor": 0,
              "model_id": "1ee8ceb0d4714693b6b51196c27149d1"
            }
          },
          "metadata": {}
        },
        {
          "output_type": "stream",
          "name": "stderr",
          "text": [
            "Some weights of BertForSequenceClassification were not initialized from the model checkpoint at bert-base-uncased and are newly initialized: ['classifier.bias', 'classifier.weight']\n",
            "You should probably TRAIN this model on a down-stream task to be able to use it for predictions and inference.\n"
          ]
        }
      ]
    },
    {
      "cell_type": "markdown",
      "source": [
        "\n",
        "# Calculate the scales for each category"
      ],
      "metadata": {
        "id": "HDHsAvJBlMdS"
      },
      "id": "HDHsAvJBlMdS"
    },
    {
      "cell_type": "code",
      "source": [
        "negative = 0\n",
        "neutral = 1\n",
        "positive = 2\n",
        "\n",
        "def compute_metrics(pred):\n",
        "    labels = pred.label_ids\n",
        "    preds = pred.predictions.argmax(-1)\n",
        "\n",
        "    accuracy = accuracy_score(labels, preds)\n",
        "    precision, recall, f1, _ = precision_recall_fscore_support(labels, preds, average=None)\n",
        "\n",
        "\n",
        "\n",
        "    return {\n",
        "        'accuracy': accuracy,\n",
        "        'precision_negative': precision[negative],\n",
        "        'precision_neutral': precision[neutral],\n",
        "        'precision_positive': precision[positive],\n",
        "        'recall_negative': recall[negative],\n",
        "        'recall_neutral': recall[neutral],\n",
        "        'recall_positive': recall[positive],\n",
        "        'f1_negative': f1[negative],\n",
        "        'f1_neutral': f1[neutral],\n",
        "        'f1_positive': f1[positive]\n",
        "    }"
      ],
      "metadata": {
        "id": "UQwgku2XIfSy"
      },
      "id": "UQwgku2XIfSy",
      "execution_count": 29,
      "outputs": []
    },
    {
      "cell_type": "markdown",
      "source": [
        "# Training settings\n"
      ],
      "metadata": {
        "id": "1h9_w-AwmUk5"
      },
      "id": "1h9_w-AwmUk5"
    },
    {
      "cell_type": "code",
      "source": [
        "training_args = TrainingArguments(\n",
        "    output_dir='./results6',\n",
        "    num_train_epochs=5,\n",
        "    per_device_train_batch_size=32,\n",
        "    per_device_eval_batch_size=32,\n",
        "    warmup_ratio=0.1,\n",
        "    weight_decay=0.01,\n",
        "    logging_dir='./logs',\n",
        "    logging_steps=500,\n",
        "    evaluation_strategy=\"epoch\",\n",
        "    save_strategy=\"epoch\",\n",
        "    metric_for_best_model=\"accuracy\",\n",
        "    greater_is_better=True,\n",
        "    save_total_limit=2,\n",
        "    load_best_model_at_end=True,\n",
        "    fp16=True,\n",
        "    learning_rate=2e-5\n",
        ")"
      ],
      "metadata": {
        "colab": {
          "base_uri": "https://localhost:8080/"
        },
        "id": "Fbh-zaHjJ6ym",
        "outputId": "cf931c37-400a-4ccc-f76d-e8972af67982"
      },
      "id": "Fbh-zaHjJ6ym",
      "execution_count": 26,
      "outputs": [
        {
          "output_type": "stream",
          "name": "stderr",
          "text": [
            "/usr/local/lib/python3.11/dist-packages/transformers/training_args.py:1611: FutureWarning: `evaluation_strategy` is deprecated and will be removed in version 4.46 of 🤗 Transformers. Use `eval_strategy` instead\n",
            "  warnings.warn(\n"
          ]
        }
      ]
    },
    {
      "cell_type": "markdown",
      "source": [
        "# Create trainer"
      ],
      "metadata": {
        "id": "Ss-r9X0Bmnsy"
      },
      "id": "Ss-r9X0Bmnsy"
    },
    {
      "cell_type": "code",
      "source": [
        "trainer = Trainer(\n",
        "    model=model,\n",
        "    args=training_args,\n",
        "    train_dataset=train_dataset,\n",
        "    eval_dataset=test_dataset,\n",
        "    compute_metrics=compute_metrics,\n",
        "    callbacks=[EarlyStoppingCallback(early_stopping_patience=3)]\n",
        ")\n"
      ],
      "metadata": {
        "id": "IswyU-SrFNhK"
      },
      "id": "IswyU-SrFNhK",
      "execution_count": 27,
      "outputs": []
    },
    {
      "cell_type": "code",
      "source": [
        "trainer.train()"
      ],
      "metadata": {
        "colab": {
          "base_uri": "https://localhost:8080/",
          "height": 363
        },
        "id": "ad_nWDSlFJc_",
        "outputId": "8fd110b1-b685-4913-bf69-583150b79311"
      },
      "id": "ad_nWDSlFJc_",
      "execution_count": 30,
      "outputs": [
        {
          "output_type": "display_data",
          "data": {
            "text/plain": [
              "<IPython.core.display.HTML object>"
            ],
            "text/html": [
              "\n",
              "    <div>\n",
              "      \n",
              "      <progress value='16175' max='16175' style='width:300px; height:20px; vertical-align: middle;'></progress>\n",
              "      [16175/16175 15:37, Epoch 5/5]\n",
              "    </div>\n",
              "    <table border=\"1\" class=\"dataframe\">\n",
              "  <thead>\n",
              " <tr style=\"text-align: left;\">\n",
              "      <th>Epoch</th>\n",
              "      <th>Training Loss</th>\n",
              "      <th>Validation Loss</th>\n",
              "      <th>Accuracy</th>\n",
              "      <th>Precision Negative</th>\n",
              "      <th>Precision Neutral</th>\n",
              "      <th>Precision Positive</th>\n",
              "      <th>Recall Negative</th>\n",
              "      <th>Recall Neutral</th>\n",
              "      <th>Recall Positive</th>\n",
              "      <th>F1 Negative</th>\n",
              "      <th>F1 Neutral</th>\n",
              "      <th>F1 Positive</th>\n",
              "    </tr>\n",
              "  </thead>\n",
              "  <tbody>\n",
              "    <tr>\n",
              "      <td>1</td>\n",
              "      <td>0.269200</td>\n",
              "      <td>0.325848</td>\n",
              "      <td>0.864126</td>\n",
              "      <td>0.804822</td>\n",
              "      <td>0.802180</td>\n",
              "      <td>0.983479</td>\n",
              "      <td>0.810836</td>\n",
              "      <td>0.793991</td>\n",
              "      <td>0.986194</td>\n",
              "      <td>0.807818</td>\n",
              "      <td>0.798065</td>\n",
              "      <td>0.984835</td>\n",
              "    </tr>\n",
              "    <tr>\n",
              "      <td>2</td>\n",
              "      <td>0.229100</td>\n",
              "      <td>0.323769</td>\n",
              "      <td>0.879275</td>\n",
              "      <td>0.846135</td>\n",
              "      <td>0.810029</td>\n",
              "      <td>0.980736</td>\n",
              "      <td>0.805231</td>\n",
              "      <td>0.841318</td>\n",
              "      <td>0.989876</td>\n",
              "      <td>0.825176</td>\n",
              "      <td>0.825377</td>\n",
              "      <td>0.985285</td>\n",
              "    </tr>\n",
              "    <tr>\n",
              "      <td>3</td>\n",
              "      <td>0.149800</td>\n",
              "      <td>0.369678</td>\n",
              "      <td>0.883410</td>\n",
              "      <td>0.843912</td>\n",
              "      <td>0.819034</td>\n",
              "      <td>0.986462</td>\n",
              "      <td>0.818192</td>\n",
              "      <td>0.841550</td>\n",
              "      <td>0.989185</td>\n",
              "      <td>0.830853</td>\n",
              "      <td>0.830139</td>\n",
              "      <td>0.987822</td>\n",
              "    </tr>\n",
              "    <tr>\n",
              "      <td>4</td>\n",
              "      <td>0.102500</td>\n",
              "      <td>0.444712</td>\n",
              "      <td>0.883526</td>\n",
              "      <td>0.840782</td>\n",
              "      <td>0.824751</td>\n",
              "      <td>0.982890</td>\n",
              "      <td>0.823797</td>\n",
              "      <td>0.834126</td>\n",
              "      <td>0.991371</td>\n",
              "      <td>0.832203</td>\n",
              "      <td>0.829412</td>\n",
              "      <td>0.987113</td>\n",
              "    </tr>\n",
              "    <tr>\n",
              "      <td>5</td>\n",
              "      <td>0.062400</td>\n",
              "      <td>0.515882</td>\n",
              "      <td>0.883487</td>\n",
              "      <td>0.843389</td>\n",
              "      <td>0.821372</td>\n",
              "      <td>0.984116</td>\n",
              "      <td>0.819360</td>\n",
              "      <td>0.838998</td>\n",
              "      <td>0.990796</td>\n",
              "      <td>0.831201</td>\n",
              "      <td>0.830091</td>\n",
              "      <td>0.987445</td>\n",
              "    </tr>\n",
              "  </tbody>\n",
              "</table><p>"
            ]
          },
          "metadata": {}
        },
        {
          "output_type": "display_data",
          "data": {
            "text/plain": [
              "<IPython.core.display.HTML object>"
            ],
            "text/html": [
              "\n",
              "    <div>\n",
              "      \n",
              "      <progress value='3236' max='16175' style='width:300px; height:20px; vertical-align: middle;'></progress>\n",
              "      [ 3235/16175 02:51 < 11:25, 18.88 it/s, Epoch 1.00/5]\n",
              "    </div>\n",
              "    <table border=\"1\" class=\"dataframe\">\n",
              "  <thead>\n",
              " <tr style=\"text-align: left;\">\n",
              "      <th>Epoch</th>\n",
              "      <th>Training Loss</th>\n",
              "      <th>Validation Loss</th>\n",
              "    </tr>\n",
              "  </thead>\n",
              "  <tbody>\n",
              "  </tbody>\n",
              "</table><p>\n",
              "    <div>\n",
              "      \n",
              "      <progress value='1618' max='809' style='width:300px; height:20px; vertical-align: middle;'></progress>\n",
              "      [809/809 07:35]\n",
              "    </div>\n",
              "    "
            ]
          },
          "metadata": {}
        },
        {
          "output_type": "execute_result",
          "data": {
            "text/plain": [
              "TrainOutput(global_step=16175, training_loss=0.1666227218061916, metrics={'train_runtime': 937.6343, 'train_samples_per_second': 551.958, 'train_steps_per_second': 17.251, 'total_flos': 3.4536398767686144e+16, 'train_loss': 0.1666227218061916, 'epoch': 5.0})"
            ]
          },
          "metadata": {},
          "execution_count": 30
        }
      ]
    },
    {
      "cell_type": "markdown",
      "source": [
        "# Evaluate the trained model using the validation set"
      ],
      "metadata": {
        "id": "w-jNY7TMnDgK"
      },
      "id": "w-jNY7TMnDgK"
    },
    {
      "cell_type": "code",
      "source": [
        "eval_results = trainer.evaluate()\n",
        "print(eval_results)"
      ],
      "metadata": {
        "colab": {
          "base_uri": "https://localhost:8080/",
          "height": 74
        },
        "id": "5qn4W9WPKz1w",
        "outputId": "9322115f-6497-4011-b3a0-2916b2f1c038"
      },
      "id": "5qn4W9WPKz1w",
      "execution_count": 31,
      "outputs": [
        {
          "output_type": "display_data",
          "data": {
            "text/plain": [
              "<IPython.core.display.HTML object>"
            ],
            "text/html": [
              "\n",
              "    <div>\n",
              "      \n",
              "      <progress value='809' max='809' style='width:300px; height:20px; vertical-align: middle;'></progress>\n",
              "      [809/809 00:13]\n",
              "    </div>\n",
              "    "
            ]
          },
          "metadata": {}
        },
        {
          "output_type": "stream",
          "name": "stdout",
          "text": [
            "{'eval_loss': 0.4447120130062103, 'eval_accuracy': 0.8835259110406926, 'eval_precision_negative': 0.8407817900131093, 'eval_precision_neutral': 0.8247505447872463, 'eval_precision_positive': 0.9828903843960306, 'eval_recall_negative': 0.8237972909855208, 'eval_recall_neutral': 0.8341259714650272, 'eval_recall_positive': 0.9913713759779107, 'eval_f1_negative': 0.832202890002949, 'eval_f1_neutral': 0.8294117647058824, 'eval_f1_positive': 0.987112663955553, 'eval_runtime': 13.3865, 'eval_samples_per_second': 1933.061, 'eval_steps_per_second': 60.434, 'epoch': 5.0}\n"
          ]
        }
      ]
    },
    {
      "cell_type": "markdown",
      "source": [
        "# Get forecasts"
      ],
      "metadata": {
        "id": "Xn30t8LwnPcd"
      },
      "id": "Xn30t8LwnPcd"
    },
    {
      "cell_type": "code",
      "source": [
        "predictions = trainer.predict(test_dataset)\n",
        "preds = predictions.predictions.argmax(-1)\n",
        "true_labels = predictions.label_ids"
      ],
      "metadata": {
        "colab": {
          "base_uri": "https://localhost:8080/",
          "height": 17
        },
        "id": "4eEnoYDnnJKh",
        "outputId": "ef838b71-bb33-4ae5-dca6-8434f75589d3"
      },
      "id": "4eEnoYDnnJKh",
      "execution_count": 32,
      "outputs": [
        {
          "output_type": "display_data",
          "data": {
            "text/plain": [
              "<IPython.core.display.HTML object>"
            ],
            "text/html": []
          },
          "metadata": {}
        }
      ]
    },
    {
      "cell_type": "markdown",
      "source": [
        "# Calculate the confusion matrix and plot the confusion matrix"
      ],
      "metadata": {
        "id": "9_MDaDe2nlm1"
      },
      "id": "9_MDaDe2nlm1"
    },
    {
      "cell_type": "code",
      "source": [
        "cm = confusion_matrix(true_labels, preds)\n",
        "\n",
        "print(\"Confusion Matrix:\\n\", cm)\n",
        "\n",
        "plt.figure(figsize=(8, 6))\n",
        "sns.heatmap(cm, annot=True, fmt='d', cmap='Blues', xticklabels=[\"negative\", \"neutral\", \"positive\"], yticklabels=[\"negative\", \"neutral\", \"positive\"])\n",
        "plt.xlabel(\"Predicted Label\")\n",
        "plt.ylabel(\"True Label\")\n",
        "plt.title(\"Confusion Matrix\")\n",
        "plt.show()"
      ],
      "metadata": {
        "colab": {
          "base_uri": "https://localhost:8080/",
          "height": 633
        },
        "id": "6IxOC6yfK5R2",
        "outputId": "90243f06-7644-4ba5-bb4d-57b3d7259ef3"
      },
      "id": "6IxOC6yfK5R2",
      "execution_count": 33,
      "outputs": [
        {
          "output_type": "stream",
          "name": "stdout",
          "text": [
            "Confusion Matrix:\n",
            " [[7055 1466   43]\n",
            " [1323 7191  107]\n",
            " [  13   62 8617]]\n"
          ]
        },
        {
          "output_type": "display_data",
          "data": {
            "text/plain": [
              "<Figure size 800x600 with 2 Axes>"
            ],
            "image/png": "[encoded data removed]"
          },
          "metadata": {}
        }
      ]
    }
  ],
  "metadata": {
    "language_info": {
      "name": "python"
    },
    "colab": {
      "provenance": [],
      "machine_shape": "hm",
      "gpuType": "A100"
    },
    "accelerator": "GPU",
    "kernelspec": {
      "name": "python3",
      "display_name": "Python 3"
    },
    "widgets": {
      "application/vnd.jupyter.widget-state+json": {
        "614b087586734e97bae6414e9039f92d": {
          "model_module": "@jupyter-widgets/controls",
          "model_name": "HBoxModel",
          "model_module_version": "1.5.0",
          "state": {
            "_dom_classes": [],
            "_model_module": "@jupyter-widgets/controls",
            "_model_module_version": "1.5.0",
            "_model_name": "HBoxModel",
            "_view_count": null,
            "_view_module": "@jupyter-widgets/controls",
            "_view_module_version": "1.5.0",
            "_view_name": "HBoxView",
            "box_style": "",
            "children": [
              "IPY_MODEL_5da8c45efa4842cab53b5f47e8764ce2",
              "IPY_MODEL_15d1bb00794c4858b3355571e5b78fb1",
              "IPY_MODEL_fa033c83095c4aba96bd7bb730f62e91"
            ],
            "layout": "IPY_MODEL_9f11ca6836b74a438b9ccdf8da4229ce"
          }
        },
        "5da8c45efa4842cab53b5f47e8764ce2": {
          "model_module": "@jupyter-widgets/controls",
          "model_name": "HTMLModel",
          "model_module_version": "1.5.0",
          "state": {
            "_dom_classes": [],
            "_model_module": "@jupyter-widgets/controls",
            "_model_module_version": "1.5.0",
            "_model_name": "HTMLModel",
            "_view_count": null,
            "_view_module": "@jupyter-widgets/controls",
            "_view_module_version": "1.5.0",
            "_view_name": "HTMLView",
            "description": "",
            "description_tooltip": null,
            "layout": "IPY_MODEL_a177495dc01c4345b2ca802a6febcb9f",
            "placeholder": "​",
            "style": "IPY_MODEL_e3099844be854882849bfefca8b6c35f",
            "value": "tokenizer_config.json: 100%"
          }
        },
        "15d1bb00794c4858b3355571e5b78fb1": {
          "model_module": "@jupyter-widgets/controls",
          "model_name": "FloatProgressModel",
          "model_module_version": "1.5.0",
          "state": {
            "_dom_classes": [],
            "_model_module": "@jupyter-widgets/controls",
            "_model_module_version": "1.5.0",
            "_model_name": "FloatProgressModel",
            "_view_count": null,
            "_view_module": "@jupyter-widgets/controls",
            "_view_module_version": "1.5.0",
            "_view_name": "ProgressView",
            "bar_style": "success",
            "description": "",
            "description_tooltip": null,
            "layout": "IPY_MODEL_1d9165ef8d9d4def8fa4e1f7eff52cf0",
            "max": 48,
            "min": 0,
            "orientation": "horizontal",
            "style": "IPY_MODEL_4847e3bed2b24987bbc0f9138f27bb58",
            "value": 48
          }
        },
        "fa033c83095c4aba96bd7bb730f62e91": {
          "model_module": "@jupyter-widgets/controls",
          "model_name": "HTMLModel",
          "model_module_version": "1.5.0",
          "state": {
            "_dom_classes": [],
            "_model_module": "@jupyter-widgets/controls",
            "_model_module_version": "1.5.0",
            "_model_name": "HTMLModel",
            "_view_count": null,
            "_view_module": "@jupyter-widgets/controls",
            "_view_module_version": "1.5.0",
            "_view_name": "HTMLView",
            "description": "",
            "description_tooltip": null,
            "layout": "IPY_MODEL_93e1751bc4324c699526f29f3e478153",
            "placeholder": "​",
            "style": "IPY_MODEL_68e03766bb4f4ebc882c3bc9d6a920a3",
            "value": " 48.0/48.0 [00:00&lt;00:00, 5.16kB/s]"
          }
        },
        "9f11ca6836b74a438b9ccdf8da4229ce": {
          "model_module": "@jupyter-widgets/base",
          "model_name": "LayoutModel",
          "model_module_version": "1.2.0",
          "state": {
            "_model_module": "@jupyter-widgets/base",
            "_model_module_version": "1.2.0",
            "_model_name": "LayoutModel",
            "_view_count": null,
            "_view_module": "@jupyter-widgets/base",
            "_view_module_version": "1.2.0",
            "_view_name": "LayoutView",
            "align_content": null,
            "align_items": null,
            "align_self": null,
            "border": null,
            "bottom": null,
            "display": null,
            "flex": null,
            "flex_flow": null,
            "grid_area": null,
            "grid_auto_columns": null,
            "grid_auto_flow": null,
            "grid_auto_rows": null,
            "grid_column": null,
            "grid_gap": null,
            "grid_row": null,
            "grid_template_areas": null,
            "grid_template_columns": null,
            "grid_template_rows": null,
            "height": null,
            "justify_content": null,
            "justify_items": null,
            "left": null,
            "margin": null,
            "max_height": null,
            "max_width": null,
            "min_height": null,
            "min_width": null,
            "object_fit": null,
            "object_position": null,
            "order": null,
            "overflow": null,
            "overflow_x": null,
            "overflow_y": null,
            "padding": null,
            "right": null,
            "top": null,
            "visibility": null,
            "width": null
          }
        },
        "a177495dc01c4345b2ca802a6febcb9f": {
          "model_module": "@jupyter-widgets/base",
          "model_name": "LayoutModel",
          "model_module_version": "1.2.0",
          "state": {
            "_model_module": "@jupyter-widgets/base",
            "_model_module_version": "1.2.0",
            "_model_name": "LayoutModel",
            "_view_count": null,
            "_view_module": "@jupyter-widgets/base",
            "_view_module_version": "1.2.0",
            "_view_name": "LayoutView",
            "align_content": null,
            "align_items": null,
            "align_self": null,
            "border": null,
            "bottom": null,
            "display": null,
            "flex": null,
            "flex_flow": null,
            "grid_area": null,
            "grid_auto_columns": null,
            "grid_auto_flow": null,
            "grid_auto_rows": null,
            "grid_column": null,
            "grid_gap": null,
            "grid_row": null,
            "grid_template_areas": null,
            "grid_template_columns": null,
            "grid_template_rows": null,
            "height": null,
            "justify_content": null,
            "justify_items": null,
            "left": null,
            "margin": null,
            "max_height": null,
            "max_width": null,
            "min_height": null,
            "min_width": null,
            "object_fit": null,
            "object_position": null,
            "order": null,
            "overflow": null,
            "overflow_x": null,
            "overflow_y": null,
            "padding": null,
            "right": null,
            "top": null,
            "visibility": null,
            "width": null
          }
        },
        "e3099844be854882849bfefca8b6c35f": {
          "model_module": "@jupyter-widgets/controls",
          "model_name": "DescriptionStyleModel",
          "model_module_version": "1.5.0",
          "state": {
            "_model_module": "@jupyter-widgets/controls",
            "_model_module_version": "1.5.0",
            "_model_name": "DescriptionStyleModel",
            "_view_count": null,
            "_view_module": "@jupyter-widgets/base",
            "_view_module_version": "1.2.0",
            "_view_name": "StyleView",
            "description_width": ""
          }
        },
        "1d9165ef8d9d4def8fa4e1f7eff52cf0": {
          "model_module": "@jupyter-widgets/base",
          "model_name": "LayoutModel",
          "model_module_version": "1.2.0",
          "state": {
            "_model_module": "@jupyter-widgets/base",
            "_model_module_version": "1.2.0",
            "_model_name": "LayoutModel",
            "_view_count": null,
            "_view_module": "@jupyter-widgets/base",
            "_view_module_version": "1.2.0",
            "_view_name": "LayoutView",
            "align_content": null,
            "align_items": null,
            "align_self": null,
            "border": null,
            "bottom": null,
            "display": null,
            "flex": null,
            "flex_flow": null,
            "grid_area": null,
            "grid_auto_columns": null,
            "grid_auto_flow": null,
            "grid_auto_rows": null,
            "grid_column": null,
            "grid_gap": null,
            "grid_row": null,
            "grid_template_areas": null,
            "grid_template_columns": null,
            "grid_template_rows": null,
            "height": null,
            "justify_content": null,
            "justify_items": null,
            "left": null,
            "margin": null,
            "max_height": null,
            "max_width": null,
            "min_height": null,
            "min_width": null,
            "object_fit": null,
            "object_position": null,
            "order": null,
            "overflow": null,
            "overflow_x": null,
            "overflow_y": null,
            "padding": null,
            "right": null,
            "top": null,
            "visibility": null,
            "width": null
          }
        },
        "4847e3bed2b24987bbc0f9138f27bb58": {
          "model_module": "@jupyter-widgets/controls",
          "model_name": "ProgressStyleModel",
          "model_module_version": "1.5.0",
          "state": {
            "_model_module": "@jupyter-widgets/controls",
            "_model_module_version": "1.5.0",
            "_model_name": "ProgressStyleModel",
            "_view_count": null,
            "_view_module": "@jupyter-widgets/base",
            "_view_module_version": "1.2.0",
            "_view_name": "StyleView",
            "bar_color": null,
            "description_width": ""
          }
        },
        "93e1751bc4324c699526f29f3e478153": {
          "model_module": "@jupyter-widgets/base",
          "model_name": "LayoutModel",
          "model_module_version": "1.2.0",
          "state": {
            "_model_module": "@jupyter-widgets/base",
            "_model_module_version": "1.2.0",
            "_model_name": "LayoutModel",
            "_view_count": null,
            "_view_module": "@jupyter-widgets/base",
            "_view_module_version": "1.2.0",
            "_view_name": "LayoutView",
            "align_content": null,
            "align_items": null,
            "align_self": null,
            "border": null,
            "bottom": null,
            "display": null,
            "flex": null,
            "flex_flow": null,
            "grid_area": null,
            "grid_auto_columns": null,
            "grid_auto_flow": null,
            "grid_auto_rows": null,
            "grid_column": null,
            "grid_gap": null,
            "grid_row": null,
            "grid_template_areas": null,
            "grid_template_columns": null,
            "grid_template_rows": null,
            "height": null,
            "justify_content": null,
            "justify_items": null,
            "left": null,
            "margin": null,
            "max_height": null,
            "max_width": null,
            "min_height": null,
            "min_width": null,
            "object_fit": null,
            "object_position": null,
            "order": null,
            "overflow": null,
            "overflow_x": null,
            "overflow_y": null,
            "padding": null,
            "right": null,
            "top": null,
            "visibility": null,
            "width": null
          }
        },
        "68e03766bb4f4ebc882c3bc9d6a920a3": {
          "model_module": "@jupyter-widgets/controls",
          "model_name": "DescriptionStyleModel",
          "model_module_version": "1.5.0",
          "state": {
            "_model_module": "@jupyter-widgets/controls",
            "_model_module_version": "1.5.0",
            "_model_name": "DescriptionStyleModel",
            "_view_count": null,
            "_view_module": "@jupyter-widgets/base",
            "_view_module_version": "1.2.0",
            "_view_name": "StyleView",
            "description_width": ""
          }
        },
        "5ad10081c4a649838c1ee249584bf733": {
          "model_module": "@jupyter-widgets/controls",
          "model_name": "HBoxModel",
          "model_module_version": "1.5.0",
          "state": {
            "_dom_classes": [],
            "_model_module": "@jupyter-widgets/controls",
            "_model_module_version": "1.5.0",
            "_model_name": "HBoxModel",
            "_view_count": null,
            "_view_module": "@jupyter-widgets/controls",
            "_view_module_version": "1.5.0",
            "_view_name": "HBoxView",
            "box_style": "",
            "children": [
              "IPY_MODEL_1ebda8e9f9304b309dcde62105d1cd8c",
              "IPY_MODEL_61d1766bb844407eb6f2a48b167ca528",
              "IPY_MODEL_aef92979ae674b2ebf435e44d7c56141"
            ],
            "layout": "IPY_MODEL_67b2a1a5e27e4dfd8abcb9d34a9ca725"
          }
        },
        "1ebda8e9f9304b309dcde62105d1cd8c": {
          "model_module": "@jupyter-widgets/controls",
          "model_name": "HTMLModel",
          "model_module_version": "1.5.0",
          "state": {
            "_dom_classes": [],
            "_model_module": "@jupyter-widgets/controls",
            "_model_module_version": "1.5.0",
            "_model_name": "HTMLModel",
            "_view_count": null,
            "_view_module": "@jupyter-widgets/controls",
            "_view_module_version": "1.5.0",
            "_view_name": "HTMLView",
            "description": "",
            "description_tooltip": null,
            "layout": "IPY_MODEL_e975361e89ae4a1e9144fac851724fba",
            "placeholder": "​",
            "style": "IPY_MODEL_fa9958f920b645f684b8c2e23f697cf7",
            "value": "vocab.txt: 100%"
          }
        },
        "61d1766bb844407eb6f2a48b167ca528": {
          "model_module": "@jupyter-widgets/controls",
          "model_name": "FloatProgressModel",
          "model_module_version": "1.5.0",
          "state": {
            "_dom_classes": [],
            "_model_module": "@jupyter-widgets/controls",
            "_model_module_version": "1.5.0",
            "_model_name": "FloatProgressModel",
            "_view_count": null,
            "_view_module": "@jupyter-widgets/controls",
            "_view_module_version": "1.5.0",
            "_view_name": "ProgressView",
            "bar_style": "success",
            "description": "",
            "description_tooltip": null,
            "layout": "IPY_MODEL_1e9f29ff090c4db2ad5ffece95ffe86c",
            "max": 231508,
            "min": 0,
            "orientation": "horizontal",
            "style": "IPY_MODEL_ad5fbc486da141419514b01c24ceb407",
            "value": 231508
          }
        },
        "aef92979ae674b2ebf435e44d7c56141": {
          "model_module": "@jupyter-widgets/controls",
          "model_name": "HTMLModel",
          "model_module_version": "1.5.0",
          "state": {
            "_dom_classes": [],
            "_model_module": "@jupyter-widgets/controls",
            "_model_module_version": "1.5.0",
            "_model_name": "HTMLModel",
            "_view_count": null,
            "_view_module": "@jupyter-widgets/controls",
            "_view_module_version": "1.5.0",
            "_view_name": "HTMLView",
            "description": "",
            "description_tooltip": null,
            "layout": "IPY_MODEL_d440a284545243e78e7408ed57b721e0",
            "placeholder": "​",
            "style": "IPY_MODEL_5c3915cf33cd47a3b77a89dfe88634aa",
            "value": " 232k/232k [00:00&lt;00:00, 3.18MB/s]"
          }
        },
        "67b2a1a5e27e4dfd8abcb9d34a9ca725": {
          "model_module": "@jupyter-widgets/base",
          "model_name": "LayoutModel",
          "model_module_version": "1.2.0",
          "state": {
            "_model_module": "@jupyter-widgets/base",
            "_model_module_version": "1.2.0",
            "_model_name": "LayoutModel",
            "_view_count": null,
            "_view_module": "@jupyter-widgets/base",
            "_view_module_version": "1.2.0",
            "_view_name": "LayoutView",
            "align_content": null,
            "align_items": null,
            "align_self": null,
            "border": null,
            "bottom": null,
            "display": null,
            "flex": null,
            "flex_flow": null,
            "grid_area": null,
            "grid_auto_columns": null,
            "grid_auto_flow": null,
            "grid_auto_rows": null,
            "grid_column": null,
            "grid_gap": null,
            "grid_row": null,
            "grid_template_areas": null,
            "grid_template_columns": null,
            "grid_template_rows": null,
            "height": null,
            "justify_content": null,
            "justify_items": null,
            "left": null,
            "margin": null,
            "max_height": null,
            "max_width": null,
            "min_height": null,
            "min_width": null,
            "object_fit": null,
            "object_position": null,
            "order": null,
            "overflow": null,
            "overflow_x": null,
            "overflow_y": null,
            "padding": null,
            "right": null,
            "top": null,
            "visibility": null,
            "width": null
          }
        },
        "e975361e89ae4a1e9144fac851724fba": {
          "model_module": "@jupyter-widgets/base",
          "model_name": "LayoutModel",
          "model_module_version": "1.2.0",
          "state": {
            "_model_module": "@jupyter-widgets/base",
            "_model_module_version": "1.2.0",
            "_model_name": "LayoutModel",
            "_view_count": null,
            "_view_module": "@jupyter-widgets/base",
            "_view_module_version": "1.2.0",
            "_view_name": "LayoutView",
            "align_content": null,
            "align_items": null,
            "align_self": null,
            "border": null,
            "bottom": null,
            "display": null,
            "flex": null,
            "flex_flow": null,
            "grid_area": null,
            "grid_auto_columns": null,
            "grid_auto_flow": null,
            "grid_auto_rows": null,
            "grid_column": null,
            "grid_gap": null,
            "grid_row": null,
            "grid_template_areas": null,
            "grid_template_columns": null,
            "grid_template_rows": null,
            "height": null,
            "justify_content": null,
            "justify_items": null,
            "left": null,
            "margin": null,
            "max_height": null,
            "max_width": null,
            "min_height": null,
            "min_width": null,
            "object_fit": null,
            "object_position": null,
            "order": null,
            "overflow": null,
            "overflow_x": null,
            "overflow_y": null,
            "padding": null,
            "right": null,
            "top": null,
            "visibility": null,
            "width": null
          }
        },
        "fa9958f920b645f684b8c2e23f697cf7": {
          "model_module": "@jupyter-widgets/controls",
          "model_name": "DescriptionStyleModel",
          "model_module_version": "1.5.0",
          "state": {
            "_model_module": "@jupyter-widgets/controls",
            "_model_module_version": "1.5.0",
            "_model_name": "DescriptionStyleModel",
            "_view_count": null,
            "_view_module": "@jupyter-widgets/base",
            "_view_module_version": "1.2.0",
            "_view_name": "StyleView",
            "description_width": ""
          }
        },
        "1e9f29ff090c4db2ad5ffece95ffe86c": {
          "model_module": "@jupyter-widgets/base",
          "model_name": "LayoutModel",
          "model_module_version": "1.2.0",
          "state": {
            "_model_module": "@jupyter-widgets/base",
            "_model_module_version": "1.2.0",
            "_model_name": "LayoutModel",
            "_view_count": null,
            "_view_module": "@jupyter-widgets/base",
            "_view_module_version": "1.2.0",
            "_view_name": "LayoutView",
            "align_content": null,
            "align_items": null,
            "align_self": null,
            "border": null,
            "bottom": null,
            "display": null,
            "flex": null,
            "flex_flow": null,
            "grid_area": null,
            "grid_auto_columns": null,
            "grid_auto_flow": null,
            "grid_auto_rows": null,
            "grid_column": null,
            "grid_gap": null,
            "grid_row": null,
            "grid_template_areas": null,
            "grid_template_columns": null,
            "grid_template_rows": null,
            "height": null,
            "justify_content": null,
            "justify_items": null,
            "left": null,
            "margin": null,
            "max_height": null,
            "max_width": null,
            "min_height": null,
            "min_width": null,
            "object_fit": null,
            "object_position": null,
            "order": null,
            "overflow": null,
            "overflow_x": null,
            "overflow_y": null,
            "padding": null,
            "right": null,
            "top": null,
            "visibility": null,
            "width": null
          }
        },
        "ad5fbc486da141419514b01c24ceb407": {
          "model_module": "@jupyter-widgets/controls",
          "model_name": "ProgressStyleModel",
          "model_module_version": "1.5.0",
          "state": {
            "_model_module": "@jupyter-widgets/controls",
            "_model_module_version": "1.5.0",
            "_model_name": "ProgressStyleModel",
            "_view_count": null,
            "_view_module": "@jupyter-widgets/base",
            "_view_module_version": "1.2.0",
            "_view_name": "StyleView",
            "bar_color": null,
            "description_width": ""
          }
        },
        "d440a284545243e78e7408ed57b721e0": {
          "model_module": "@jupyter-widgets/base",
          "model_name": "LayoutModel",
          "model_module_version": "1.2.0",
          "state": {
            "_model_module": "@jupyter-widgets/base",
            "_model_module_version": "1.2.0",
            "_model_name": "LayoutModel",
            "_view_count": null,
            "_view_module": "@jupyter-widgets/base",
            "_view_module_version": "1.2.0",
            "_view_name": "LayoutView",
            "align_content": null,
            "align_items": null,
            "align_self": null,
            "border": null,
            "bottom": null,
            "display": null,
            "flex": null,
            "flex_flow": null,
            "grid_area": null,
            "grid_auto_columns": null,
            "grid_auto_flow": null,
            "grid_auto_rows": null,
            "grid_column": null,
            "grid_gap": null,
            "grid_row": null,
            "grid_template_areas": null,
            "grid_template_columns": null,
            "grid_template_rows": null,
            "height": null,
            "justify_content": null,
            "justify_items": null,
            "left": null,
            "margin": null,
            "max_height": null,
            "max_width": null,
            "min_height": null,
            "min_width": null,
            "object_fit": null,
            "object_position": null,
            "order": null,
            "overflow": null,
            "overflow_x": null,
            "overflow_y": null,
            "padding": null,
            "right": null,
            "top": null,
            "visibility": null,
            "width": null
          }
        },
        "5c3915cf33cd47a3b77a89dfe88634aa": {
          "model_module": "@jupyter-widgets/controls",
          "model_name": "DescriptionStyleModel",
          "model_module_version": "1.5.0",
          "state": {
            "_model_module": "@jupyter-widgets/controls",
            "_model_module_version": "1.5.0",
            "_model_name": "DescriptionStyleModel",
            "_view_count": null,
            "_view_module": "@jupyter-widgets/base",
            "_view_module_version": "1.2.0",
            "_view_name": "StyleView",
            "description_width": ""
          }
        },
        "81423cf752d84e8e88a1cc0373d8bb9a": {
          "model_module": "@jupyter-widgets/controls",
          "model_name": "HBoxModel",
          "model_module_version": "1.5.0",
          "state": {
            "_dom_classes": [],
            "_model_module": "@jupyter-widgets/controls",
            "_model_module_version": "1.5.0",
            "_model_name": "HBoxModel",
            "_view_count": null,
            "_view_module": "@jupyter-widgets/controls",
            "_view_module_version": "1.5.0",
            "_view_name": "HBoxView",
            "box_style": "",
            "children": [
              "IPY_MODEL_3bab2e15951c4776b980a20cc46c4306",
              "IPY_MODEL_15c57419616e43e18f8f6922a200df8a",
              "IPY_MODEL_c45bcf5a8e924b1a93032a841d5142d4"
            ],
            "layout": "IPY_MODEL_a54aa8c1acff4717ac966f22de40be81"
          }
        },
        "3bab2e15951c4776b980a20cc46c4306": {
          "model_module": "@jupyter-widgets/controls",
          "model_name": "HTMLModel",
          "model_module_version": "1.5.0",
          "state": {
            "_dom_classes": [],
            "_model_module": "@jupyter-widgets/controls",
            "_model_module_version": "1.5.0",
            "_model_name": "HTMLModel",
            "_view_count": null,
            "_view_module": "@jupyter-widgets/controls",
            "_view_module_version": "1.5.0",
            "_view_name": "HTMLView",
            "description": "",
            "description_tooltip": null,
            "layout": "IPY_MODEL_35bb0983f2864d11893326927d47b189",
            "placeholder": "​",
            "style": "IPY_MODEL_ecebff213f614c11a4b08a3f3cd93554",
            "value": "tokenizer.json: 100%"
          }
        },
        "15c57419616e43e18f8f6922a200df8a": {
          "model_module": "@jupyter-widgets/controls",
          "model_name": "FloatProgressModel",
          "model_module_version": "1.5.0",
          "state": {
            "_dom_classes": [],
            "_model_module": "@jupyter-widgets/controls",
            "_model_module_version": "1.5.0",
            "_model_name": "FloatProgressModel",
            "_view_count": null,
            "_view_module": "@jupyter-widgets/controls",
            "_view_module_version": "1.5.0",
            "_view_name": "ProgressView",
            "bar_style": "success",
            "description": "",
            "description_tooltip": null,
            "layout": "IPY_MODEL_16ed7695b91d499985e867e66ab09b15",
            "max": 466062,
            "min": 0,
            "orientation": "horizontal",
            "style": "IPY_MODEL_a7c2215f457f4006aae72239287abdd1",
            "value": 466062
          }
        },
        "c45bcf5a8e924b1a93032a841d5142d4": {
          "model_module": "@jupyter-widgets/controls",
          "model_name": "HTMLModel",
          "model_module_version": "1.5.0",
          "state": {
            "_dom_classes": [],
            "_model_module": "@jupyter-widgets/controls",
            "_model_module_version": "1.5.0",
            "_model_name": "HTMLModel",
            "_view_count": null,
            "_view_module": "@jupyter-widgets/controls",
            "_view_module_version": "1.5.0",
            "_view_name": "HTMLView",
            "description": "",
            "description_tooltip": null,
            "layout": "IPY_MODEL_5abc32fe397c46ce92c2abb12ca972a1",
            "placeholder": "​",
            "style": "IPY_MODEL_a771d1b9ac4e40ffa268adde4b1bc95a",
            "value": " 466k/466k [00:00&lt;00:00, 6.39MB/s]"
          }
        },
        "a54aa8c1acff4717ac966f22de40be81": {
          "model_module": "@jupyter-widgets/base",
          "model_name": "LayoutModel",
          "model_module_version": "1.2.0",
          "state": {
            "_model_module": "@jupyter-widgets/base",
            "_model_module_version": "1.2.0",
            "_model_name": "LayoutModel",
            "_view_count": null,
            "_view_module": "@jupyter-widgets/base",
            "_view_module_version": "1.2.0",
            "_view_name": "LayoutView",
            "align_content": null,
            "align_items": null,
            "align_self": null,
            "border": null,
            "bottom": null,
            "display": null,
            "flex": null,
            "flex_flow": null,
            "grid_area": null,
            "grid_auto_columns": null,
            "grid_auto_flow": null,
            "grid_auto_rows": null,
            "grid_column": null,
            "grid_gap": null,
            "grid_row": null,
            "grid_template_areas": null,
            "grid_template_columns": null,
            "grid_template_rows": null,
            "height": null,
            "justify_content": null,
            "justify_items": null,
            "left": null,
            "margin": null,
            "max_height": null,
            "max_width": null,
            "min_height": null,
            "min_width": null,
            "object_fit": null,
            "object_position": null,
            "order": null,
            "overflow": null,
            "overflow_x": null,
            "overflow_y": null,
            "padding": null,
            "right": null,
            "top": null,
            "visibility": null,
            "width": null
          }
        },
        "35bb0983f2864d11893326927d47b189": {
          "model_module": "@jupyter-widgets/base",
          "model_name": "LayoutModel",
          "model_module_version": "1.2.0",
          "state": {
            "_model_module": "@jupyter-widgets/base",
            "_model_module_version": "1.2.0",
            "_model_name": "LayoutModel",
            "_view_count": null,
            "_view_module": "@jupyter-widgets/base",
            "_view_module_version": "1.2.0",
            "_view_name": "LayoutView",
            "align_content": null,
            "align_items": null,
            "align_self": null,
            "border": null,
            "bottom": null,
            "display": null,
            "flex": null,
            "flex_flow": null,
            "grid_area": null,
            "grid_auto_columns": null,
            "grid_auto_flow": null,
            "grid_auto_rows": null,
            "grid_column": null,
            "grid_gap": null,
            "grid_row": null,
            "grid_template_areas": null,
            "grid_template_columns": null,
            "grid_template_rows": null,
            "height": null,
            "justify_content": null,
            "justify_items": null,
            "left": null,
            "margin": null,
            "max_height": null,
            "max_width": null,
            "min_height": null,
            "min_width": null,
            "object_fit": null,
            "object_position": null,
            "order": null,
            "overflow": null,
            "overflow_x": null,
            "overflow_y": null,
            "padding": null,
            "right": null,
            "top": null,
            "visibility": null,
            "width": null
          }
        },
        "ecebff213f614c11a4b08a3f3cd93554": {
          "model_module": "@jupyter-widgets/controls",
          "model_name": "DescriptionStyleModel",
          "model_module_version": "1.5.0",
          "state": {
            "_model_module": "@jupyter-widgets/controls",
            "_model_module_version": "1.5.0",
            "_model_name": "DescriptionStyleModel",
            "_view_count": null,
            "_view_module": "@jupyter-widgets/base",
            "_view_module_version": "1.2.0",
            "_view_name": "StyleView",
            "description_width": ""
          }
        },
        "16ed7695b91d499985e867e66ab09b15": {
          "model_module": "@jupyter-widgets/base",
          "model_name": "LayoutModel",
          "model_module_version": "1.2.0",
          "state": {
            "_model_module": "@jupyter-widgets/base",
            "_model_module_version": "1.2.0",
            "_model_name": "LayoutModel",
            "_view_count": null,
            "_view_module": "@jupyter-widgets/base",
            "_view_module_version": "1.2.0",
            "_view_name": "LayoutView",
            "align_content": null,
            "align_items": null,
            "align_self": null,
            "border": null,
            "bottom": null,
            "display": null,
            "flex": null,
            "flex_flow": null,
            "grid_area": null,
            "grid_auto_columns": null,
            "grid_auto_flow": null,
            "grid_auto_rows": null,
            "grid_column": null,
            "grid_gap": null,
            "grid_row": null,
            "grid_template_areas": null,
            "grid_template_columns": null,
            "grid_template_rows": null,
            "height": null,
            "justify_content": null,
            "justify_items": null,
            "left": null,
            "margin": null,
            "max_height": null,
            "max_width": null,
            "min_height": null,
            "min_width": null,
            "object_fit": null,
            "object_position": null,
            "order": null,
            "overflow": null,
            "overflow_x": null,
            "overflow_y": null,
            "padding": null,
            "right": null,
            "top": null,
            "visibility": null,
            "width": null
          }
        },
        "a7c2215f457f4006aae72239287abdd1": {
          "model_module": "@jupyter-widgets/controls",
          "model_name": "ProgressStyleModel",
          "model_module_version": "1.5.0",
          "state": {
            "_model_module": "@jupyter-widgets/controls",
            "_model_module_version": "1.5.0",
            "_model_name": "ProgressStyleModel",
            "_view_count": null,
            "_view_module": "@jupyter-widgets/base",
            "_view_module_version": "1.2.0",
            "_view_name": "StyleView",
            "bar_color": null,
            "description_width": ""
          }
        },
        "5abc32fe397c46ce92c2abb12ca972a1": {
          "model_module": "@jupyter-widgets/base",
          "model_name": "LayoutModel",
          "model_module_version": "1.2.0",
          "state": {
            "_model_module": "@jupyter-widgets/base",
            "_model_module_version": "1.2.0",
            "_model_name": "LayoutModel",
            "_view_count": null,
            "_view_module": "@jupyter-widgets/base",
            "_view_module_version": "1.2.0",
            "_view_name": "LayoutView",
            "align_content": null,
            "align_items": null,
            "align_self": null,
            "border": null,
            "bottom": null,
            "display": null,
            "flex": null,
            "flex_flow": null,
            "grid_area": null,
            "grid_auto_columns": null,
            "grid_auto_flow": null,
            "grid_auto_rows": null,
            "grid_column": null,
            "grid_gap": null,
            "grid_row": null,
            "grid_template_areas": null,
            "grid_template_columns": null,
            "grid_template_rows": null,
            "height": null,
            "justify_content": null,
            "justify_items": null,
            "left": null,
            "margin": null,
            "max_height": null,
            "max_width": null,
            "min_height": null,
            "min_width": null,
            "object_fit": null,
            "object_position": null,
            "order": null,
            "overflow": null,
            "overflow_x": null,
            "overflow_y": null,
            "padding": null,
            "right": null,
            "top": null,
            "visibility": null,
            "width": null
          }
        },
        "a771d1b9ac4e40ffa268adde4b1bc95a": {
          "model_module": "@jupyter-widgets/controls",
          "model_name": "DescriptionStyleModel",
          "model_module_version": "1.5.0",
          "state": {
            "_model_module": "@jupyter-widgets/controls",
            "_model_module_version": "1.5.0",
            "_model_name": "DescriptionStyleModel",
            "_view_count": null,
            "_view_module": "@jupyter-widgets/base",
            "_view_module_version": "1.2.0",
            "_view_name": "StyleView",
            "description_width": ""
          }
        },
        "bdf6b9054a21478095bd18921a377433": {
          "model_module": "@jupyter-widgets/controls",
          "model_name": "HBoxModel",
          "model_module_version": "1.5.0",
          "state": {
            "_dom_classes": [],
            "_model_module": "@jupyter-widgets/controls",
            "_model_module_version": "1.5.0",
            "_model_name": "HBoxModel",
            "_view_count": null,
            "_view_module": "@jupyter-widgets/controls",
            "_view_module_version": "1.5.0",
            "_view_name": "HBoxView",
            "box_style": "",
            "children": [
              "IPY_MODEL_9c7ace17f6214aa3aabc7647ca787628",
              "IPY_MODEL_29059ebcfe07411e99a82e66ac7b6fff",
              "IPY_MODEL_abee0458c97e4253a412fa77b17be960"
            ],
            "layout": "IPY_MODEL_f178ee6bc37649e089edc5b8044abe50"
          }
        },
        "9c7ace17f6214aa3aabc7647ca787628": {
          "model_module": "@jupyter-widgets/controls",
          "model_name": "HTMLModel",
          "model_module_version": "1.5.0",
          "state": {
            "_dom_classes": [],
            "_model_module": "@jupyter-widgets/controls",
            "_model_module_version": "1.5.0",
            "_model_name": "HTMLModel",
            "_view_count": null,
            "_view_module": "@jupyter-widgets/controls",
            "_view_module_version": "1.5.0",
            "_view_name": "HTMLView",
            "description": "",
            "description_tooltip": null,
            "layout": "IPY_MODEL_e2df8ad7b97648b5b091e1f965eede9a",
            "placeholder": "​",
            "style": "IPY_MODEL_db5e2f8302bc4f818e63c7073cd31cb3",
            "value": "config.json: 100%"
          }
        },
        "29059ebcfe07411e99a82e66ac7b6fff": {
          "model_module": "@jupyter-widgets/controls",
          "model_name": "FloatProgressModel",
          "model_module_version": "1.5.0",
          "state": {
            "_dom_classes": [],
            "_model_module": "@jupyter-widgets/controls",
            "_model_module_version": "1.5.0",
            "_model_name": "FloatProgressModel",
            "_view_count": null,
            "_view_module": "@jupyter-widgets/controls",
            "_view_module_version": "1.5.0",
            "_view_name": "ProgressView",
            "bar_style": "success",
            "description": "",
            "description_tooltip": null,
            "layout": "IPY_MODEL_471e2b44e61c4c948aeaaae4947ea064",
            "max": 570,
            "min": 0,
            "orientation": "horizontal",
            "style": "IPY_MODEL_2f438d99b57c412e881ce704f703f7eb",
            "value": 570
          }
        },
        "abee0458c97e4253a412fa77b17be960": {
          "model_module": "@jupyter-widgets/controls",
          "model_name": "HTMLModel",
          "model_module_version": "1.5.0",
          "state": {
            "_dom_classes": [],
            "_model_module": "@jupyter-widgets/controls",
            "_model_module_version": "1.5.0",
            "_model_name": "HTMLModel",
            "_view_count": null,
            "_view_module": "@jupyter-widgets/controls",
            "_view_module_version": "1.5.0",
            "_view_name": "HTMLView",
            "description": "",
            "description_tooltip": null,
            "layout": "IPY_MODEL_1a1ee6cda8c94c2c98d402caea38621e",
            "placeholder": "​",
            "style": "IPY_MODEL_64c6f8c065d943dd8a2b8fa4b779b273",
            "value": " 570/570 [00:00&lt;00:00, 66.8kB/s]"
          }
        },
        "f178ee6bc37649e089edc5b8044abe50": {
          "model_module": "@jupyter-widgets/base",
          "model_name": "LayoutModel",
          "model_module_version": "1.2.0",
          "state": {
            "_model_module": "@jupyter-widgets/base",
            "_model_module_version": "1.2.0",
            "_model_name": "LayoutModel",
            "_view_count": null,
            "_view_module": "@jupyter-widgets/base",
            "_view_module_version": "1.2.0",
            "_view_name": "LayoutView",
            "align_content": null,
            "align_items": null,
            "align_self": null,
            "border": null,
            "bottom": null,
            "display": null,
            "flex": null,
            "flex_flow": null,
            "grid_area": null,
            "grid_auto_columns": null,
            "grid_auto_flow": null,
            "grid_auto_rows": null,
            "grid_column": null,
            "grid_gap": null,
            "grid_row": null,
            "grid_template_areas": null,
            "grid_template_columns": null,
            "grid_template_rows": null,
            "height": null,
            "justify_content": null,
            "justify_items": null,
            "left": null,
            "margin": null,
            "max_height": null,
            "max_width": null,
            "min_height": null,
            "min_width": null,
            "object_fit": null,
            "object_position": null,
            "order": null,
            "overflow": null,
            "overflow_x": null,
            "overflow_y": null,
            "padding": null,
            "right": null,
            "top": null,
            "visibility": null,
            "width": null
          }
        },
        "e2df8ad7b97648b5b091e1f965eede9a": {
          "model_module": "@jupyter-widgets/base",
          "model_name": "LayoutModel",
          "model_module_version": "1.2.0",
          "state": {
            "_model_module": "@jupyter-widgets/base",
            "_model_module_version": "1.2.0",
            "_model_name": "LayoutModel",
            "_view_count": null,
            "_view_module": "@jupyter-widgets/base",
            "_view_module_version": "1.2.0",
            "_view_name": "LayoutView",
            "align_content": null,
            "align_items": null,
            "align_self": null,
            "border": null,
            "bottom": null,
            "display": null,
            "flex": null,
            "flex_flow": null,
            "grid_area": null,
            "grid_auto_columns": null,
            "grid_auto_flow": null,
            "grid_auto_rows": null,
            "grid_column": null,
            "grid_gap": null,
            "grid_row": null,
            "grid_template_areas": null,
            "grid_template_columns": null,
            "grid_template_rows": null,
            "height": null,
            "justify_content": null,
            "justify_items": null,
            "left": null,
            "margin": null,
            "max_height": null,
            "max_width": null,
            "min_height": null,
            "min_width": null,
            "object_fit": null,
            "object_position": null,
            "order": null,
            "overflow": null,
            "overflow_x": null,
            "overflow_y": null,
            "padding": null,
            "right": null,
            "top": null,
            "visibility": null,
            "width": null
          }
        },
        "db5e2f8302bc4f818e63c7073cd31cb3": {
          "model_module": "@jupyter-widgets/controls",
          "model_name": "DescriptionStyleModel",
          "model_module_version": "1.5.0",
          "state": {
            "_model_module": "@jupyter-widgets/controls",
            "_model_module_version": "1.5.0",
            "_model_name": "DescriptionStyleModel",
            "_view_count": null,
            "_view_module": "@jupyter-widgets/base",
            "_view_module_version": "1.2.0",
            "_view_name": "StyleView",
            "description_width": ""
          }
        },
        "471e2b44e61c4c948aeaaae4947ea064": {
          "model_module": "@jupyter-widgets/base",
          "model_name": "LayoutModel",
          "model_module_version": "1.2.0",
          "state": {
            "_model_module": "@jupyter-widgets/base",
            "_model_module_version": "1.2.0",
            "_model_name": "LayoutModel",
            "_view_count": null,
            "_view_module": "@jupyter-widgets/base",
            "_view_module_version": "1.2.0",
            "_view_name": "LayoutView",
            "align_content": null,
            "align_items": null,
            "align_self": null,
            "border": null,
            "bottom": null,
            "display": null,
            "flex": null,
            "flex_flow": null,
            "grid_area": null,
            "grid_auto_columns": null,
            "grid_auto_flow": null,
            "grid_auto_rows": null,
            "grid_column": null,
            "grid_gap": null,
            "grid_row": null,
            "grid_template_areas": null,
            "grid_template_columns": null,
            "grid_template_rows": null,
            "height": null,
            "justify_content": null,
            "justify_items": null,
            "left": null,
            "margin": null,
            "max_height": null,
            "max_width": null,
            "min_height": null,
            "min_width": null,
            "object_fit": null,
            "object_position": null,
            "order": null,
            "overflow": null,
            "overflow_x": null,
            "overflow_y": null,
            "padding": null,
            "right": null,
            "top": null,
            "visibility": null,
            "width": null
          }
        },
        "2f438d99b57c412e881ce704f703f7eb": {
          "model_module": "@jupyter-widgets/controls",
          "model_name": "ProgressStyleModel",
          "model_module_version": "1.5.0",
          "state": {
            "_model_module": "@jupyter-widgets/controls",
            "_model_module_version": "1.5.0",
            "_model_name": "ProgressStyleModel",
            "_view_count": null,
            "_view_module": "@jupyter-widgets/base",
            "_view_module_version": "1.2.0",
            "_view_name": "StyleView",
            "bar_color": null,
            "description_width": ""
          }
        },
        "1a1ee6cda8c94c2c98d402caea38621e": {
          "model_module": "@jupyter-widgets/base",
          "model_name": "LayoutModel",
          "model_module_version": "1.2.0",
          "state": {
            "_model_module": "@jupyter-widgets/base",
            "_model_module_version": "1.2.0",
            "_model_name": "LayoutModel",
            "_view_count": null,
            "_view_module": "@jupyter-widgets/base",
            "_view_module_version": "1.2.0",
            "_view_name": "LayoutView",
            "align_content": null,
            "align_items": null,
            "align_self": null,
            "border": null,
            "bottom": null,
            "display": null,
            "flex": null,
            "flex_flow": null,
            "grid_area": null,
            "grid_auto_columns": null,
            "grid_auto_flow": null,
            "grid_auto_rows": null,
            "grid_column": null,
            "grid_gap": null,
            "grid_row": null,
            "grid_template_areas": null,
            "grid_template_columns": null,
            "grid_template_rows": null,
            "height": null,
            "justify_content": null,
            "justify_items": null,
            "left": null,
            "margin": null,
            "max_height": null,
            "max_width": null,
            "min_height": null,
            "min_width": null,
            "object_fit": null,
            "object_position": null,
            "order": null,
            "overflow": null,
            "overflow_x": null,
            "overflow_y": null,
            "padding": null,
            "right": null,
            "top": null,
            "visibility": null,
            "width": null
          }
        },
        "64c6f8c065d943dd8a2b8fa4b779b273": {
          "model_module": "@jupyter-widgets/controls",
          "model_name": "DescriptionStyleModel",
          "model_module_version": "1.5.0",
          "state": {
            "_model_module": "@jupyter-widgets/controls",
            "_model_module_version": "1.5.0",
            "_model_name": "DescriptionStyleModel",
            "_view_count": null,
            "_view_module": "@jupyter-widgets/base",
            "_view_module_version": "1.2.0",
            "_view_name": "StyleView",
            "description_width": ""
          }
        },
        "1ee8ceb0d4714693b6b51196c27149d1": {
          "model_module": "@jupyter-widgets/controls",
          "model_name": "HBoxModel",
          "model_module_version": "1.5.0",
          "state": {
            "_dom_classes": [],
            "_model_module": "@jupyter-widgets/controls",
            "_model_module_version": "1.5.0",
            "_model_name": "HBoxModel",
            "_view_count": null,
            "_view_module": "@jupyter-widgets/controls",
            "_view_module_version": "1.5.0",
            "_view_name": "HBoxView",
            "box_style": "",
            "children": [
              "IPY_MODEL_2ce2ae4d001345aa902bf7f015005201",
              "IPY_MODEL_33bfde32e95740698ffb8436c7d71179",
              "IPY_MODEL_b8257786908c41e19d8551ae8ddc31be"
            ],
            "layout": "IPY_MODEL_f4934ac5b8e84ce8ba2374d3117cbf31"
          }
        },
        "2ce2ae4d001345aa902bf7f015005201": {
          "model_module": "@jupyter-widgets/controls",
          "model_name": "HTMLModel",
          "model_module_version": "1.5.0",
          "state": {
            "_dom_classes": [],
            "_model_module": "@jupyter-widgets/controls",
            "_model_module_version": "1.5.0",
            "_model_name": "HTMLModel",
            "_view_count": null,
            "_view_module": "@jupyter-widgets/controls",
            "_view_module_version": "1.5.0",
            "_view_name": "HTMLView",
            "description": "",
            "description_tooltip": null,
            "layout": "IPY_MODEL_1d0ba77a3f4445af83ac6985ae35ba08",
            "placeholder": "​",
            "style": "IPY_MODEL_d620d1d9ab204e158e4d1ac5ebb1f647",
            "value": "model.safetensors: 100%"
          }
        },
        "33bfde32e95740698ffb8436c7d71179": {
          "model_module": "@jupyter-widgets/controls",
          "model_name": "FloatProgressModel",
          "model_module_version": "1.5.0",
          "state": {
            "_dom_classes": [],
            "_model_module": "@jupyter-widgets/controls",
            "_model_module_version": "1.5.0",
            "_model_name": "FloatProgressModel",
            "_view_count": null,
            "_view_module": "@jupyter-widgets/controls",
            "_view_module_version": "1.5.0",
            "_view_name": "ProgressView",
            "bar_style": "success",
            "description": "",
            "description_tooltip": null,
            "layout": "IPY_MODEL_c1cf6278d6874489adb9e230b7674bcd",
            "max": 440449768,
            "min": 0,
            "orientation": "horizontal",
            "style": "IPY_MODEL_0e5dce0dfe79442994a93b9c75b10994",
            "value": 440449768
          }
        },
        "b8257786908c41e19d8551ae8ddc31be": {
          "model_module": "@jupyter-widgets/controls",
          "model_name": "HTMLModel",
          "model_module_version": "1.5.0",
          "state": {
            "_dom_classes": [],
            "_model_module": "@jupyter-widgets/controls",
            "_model_module_version": "1.5.0",
            "_model_name": "HTMLModel",
            "_view_count": null,
            "_view_module": "@jupyter-widgets/controls",
            "_view_module_version": "1.5.0",
            "_view_name": "HTMLView",
            "description": "",
            "description_tooltip": null,
            "layout": "IPY_MODEL_69310f7f8ad84dc9af8b1ee584c0d2e6",
            "placeholder": "​",
            "style": "IPY_MODEL_28289463d5cc48cbaccd350487f71468",
            "value": " 440M/440M [00:01&lt;00:00, 260MB/s]"
          }
        },
        "f4934ac5b8e84ce8ba2374d3117cbf31": {
          "model_module": "@jupyter-widgets/base",
          "model_name": "LayoutModel",
          "model_module_version": "1.2.0",
          "state": {
            "_model_module": "@jupyter-widgets/base",
            "_model_module_version": "1.2.0",
            "_model_name": "LayoutModel",
            "_view_count": null,
            "_view_module": "@jupyter-widgets/base",
            "_view_module_version": "1.2.0",
            "_view_name": "LayoutView",
            "align_content": null,
            "align_items": null,
            "align_self": null,
            "border": null,
            "bottom": null,
            "display": null,
            "flex": null,
            "flex_flow": null,
            "grid_area": null,
            "grid_auto_columns": null,
            "grid_auto_flow": null,
            "grid_auto_rows": null,
            "grid_column": null,
            "grid_gap": null,
            "grid_row": null,
            "grid_template_areas": null,
            "grid_template_columns": null,
            "grid_template_rows": null,
            "height": null,
            "justify_content": null,
            "justify_items": null,
            "left": null,
            "margin": null,
            "max_height": null,
            "max_width": null,
            "min_height": null,
            "min_width": null,
            "object_fit": null,
            "object_position": null,
            "order": null,
            "overflow": null,
            "overflow_x": null,
            "overflow_y": null,
            "padding": null,
            "right": null,
            "top": null,
            "visibility": null,
            "width": null
          }
        },
        "1d0ba77a3f4445af83ac6985ae35ba08": {
          "model_module": "@jupyter-widgets/base",
          "model_name": "LayoutModel",
          "model_module_version": "1.2.0",
          "state": {
            "_model_module": "@jupyter-widgets/base",
            "_model_module_version": "1.2.0",
            "_model_name": "LayoutModel",
            "_view_count": null,
            "_view_module": "@jupyter-widgets/base",
            "_view_module_version": "1.2.0",
            "_view_name": "LayoutView",
            "align_content": null,
            "align_items": null,
            "align_self": null,
            "border": null,
            "bottom": null,
            "display": null,
            "flex": null,
            "flex_flow": null,
            "grid_area": null,
            "grid_auto_columns": null,
            "grid_auto_flow": null,
            "grid_auto_rows": null,
            "grid_column": null,
            "grid_gap": null,
            "grid_row": null,
            "grid_template_areas": null,
            "grid_template_columns": null,
            "grid_template_rows": null,
            "height": null,
            "justify_content": null,
            "justify_items": null,
            "left": null,
            "margin": null,
            "max_height": null,
            "max_width": null,
            "min_height": null,
            "min_width": null,
            "object_fit": null,
            "object_position": null,
            "order": null,
            "overflow": null,
            "overflow_x": null,
            "overflow_y": null,
            "padding": null,
            "right": null,
            "top": null,
            "visibility": null,
            "width": null
          }
        },
        "d620d1d9ab204e158e4d1ac5ebb1f647": {
          "model_module": "@jupyter-widgets/controls",
          "model_name": "DescriptionStyleModel",
          "model_module_version": "1.5.0",
          "state": {
            "_model_module": "@jupyter-widgets/controls",
            "_model_module_version": "1.5.0",
            "_model_name": "DescriptionStyleModel",
            "_view_count": null,
            "_view_module": "@jupyter-widgets/base",
            "_view_module_version": "1.2.0",
            "_view_name": "StyleView",
            "description_width": ""
          }
        },
        "c1cf6278d6874489adb9e230b7674bcd": {
          "model_module": "@jupyter-widgets/base",
          "model_name": "LayoutModel",
          "model_module_version": "1.2.0",
          "state": {
            "_model_module": "@jupyter-widgets/base",
            "_model_module_version": "1.2.0",
            "_model_name": "LayoutModel",
            "_view_count": null,
            "_view_module": "@jupyter-widgets/base",
            "_view_module_version": "1.2.0",
            "_view_name": "LayoutView",
            "align_content": null,
            "align_items": null,
            "align_self": null,
            "border": null,
            "bottom": null,
            "display": null,
            "flex": null,
            "flex_flow": null,
            "grid_area": null,
            "grid_auto_columns": null,
            "grid_auto_flow": null,
            "grid_auto_rows": null,
            "grid_column": null,
            "grid_gap": null,
            "grid_row": null,
            "grid_template_areas": null,
            "grid_template_columns": null,
            "grid_template_rows": null,
            "height": null,
            "justify_content": null,
            "justify_items": null,
            "left": null,
            "margin": null,
            "max_height": null,
            "max_width": null,
            "min_height": null,
            "min_width": null,
            "object_fit": null,
            "object_position": null,
            "order": null,
            "overflow": null,
            "overflow_x": null,
            "overflow_y": null,
            "padding": null,
            "right": null,
            "top": null,
            "visibility": null,
            "width": null
          }
        },
        "0e5dce0dfe79442994a93b9c75b10994": {
          "model_module": "@jupyter-widgets/controls",
          "model_name": "ProgressStyleModel",
          "model_module_version": "1.5.0",
          "state": {
            "_model_module": "@jupyter-widgets/controls",
            "_model_module_version": "1.5.0",
            "_model_name": "ProgressStyleModel",
            "_view_count": null,
            "_view_module": "@jupyter-widgets/base",
            "_view_module_version": "1.2.0",
            "_view_name": "StyleView",
            "bar_color": null,
            "description_width": ""
          }
        },
        "69310f7f8ad84dc9af8b1ee584c0d2e6": {
          "model_module": "@jupyter-widgets/base",
          "model_name": "LayoutModel",
          "model_module_version": "1.2.0",
          "state": {
            "_model_module": "@jupyter-widgets/base",
            "_model_module_version": "1.2.0",
            "_model_name": "LayoutModel",
            "_view_count": null,
            "_view_module": "@jupyter-widgets/base",
            "_view_module_version": "1.2.0",
            "_view_name": "LayoutView",
            "align_content": null,
            "align_items": null,
            "align_self": null,
            "border": null,
            "bottom": null,
            "display": null,
            "flex": null,
            "flex_flow": null,
            "grid_area": null,
            "grid_auto_columns": null,
            "grid_auto_flow": null,
            "grid_auto_rows": null,
            "grid_column": null,
            "grid_gap": null,
            "grid_row": null,
            "grid_template_areas": null,
            "grid_template_columns": null,
            "grid_template_rows": null,
            "height": null,
            "justify_content": null,
            "justify_items": null,
            "left": null,
            "margin": null,
            "max_height": null,
            "max_width": null,
            "min_height": null,
            "min_width": null,
            "object_fit": null,
            "object_position": null,
            "order": null,
            "overflow": null,
            "overflow_x": null,
            "overflow_y": null,
            "padding": null,
            "right": null,
            "top": null,
            "visibility": null,
            "width": null
          }
        },
        "28289463d5cc48cbaccd350487f71468": {
          "model_module": "@jupyter-widgets/controls",
          "model_name": "DescriptionStyleModel",
          "model_module_version": "1.5.0",
          "state": {
            "_model_module": "@jupyter-widgets/controls",
            "_model_module_version": "1.5.0",
            "_model_name": "DescriptionStyleModel",
            "_view_count": null,
            "_view_module": "@jupyter-widgets/base",
            "_view_module_version": "1.2.0",
            "_view_name": "StyleView",
            "description_width": ""
          }
        }
      }
    }
  },
  "nbformat": 4,
  "nbformat_minor": 5
}
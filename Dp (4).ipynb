{
  "cells": [
    {
      "cell_type": "code",
      "source": [
        "!pip install gradio"
      ],
      "metadata": {
        "colab": {
          "base_uri": "https://localhost:8080/"
        },
        "id": "OsVzUojmOgfT",
        "outputId": "6f040f26-c1d1-4c2a-8d3e-6abef66d4298"
      },
      "id": "OsVzUojmOgfT",
      "execution_count": null,
      "outputs": [
        {
          "output_type": "stream",
          "name": "stdout",
          "text": [
            "Requirement already satisfied: gradio in /usr/local/lib/python3.11/dist-packages (5.25.0)\n",
            "Requirement already satisfied: aiofiles<25.0,>=22.0 in /usr/local/lib/python3.11/dist-packages (from gradio) (24.1.0)\n",
            "Requirement already satisfied: anyio<5.0,>=3.0 in /usr/local/lib/python3.11/dist-packages (from gradio) (4.9.0)\n",
            "Requirement already satisfied: fastapi<1.0,>=0.115.2 in /usr/local/lib/python3.11/dist-packages (from gradio) (0.115.12)\n",
            "Requirement already satisfied: ffmpy in /usr/local/lib/python3.11/dist-packages (from gradio) (0.5.0)\n",
            "Requirement already satisfied: gradio-client==1.8.0 in /usr/local/lib/python3.11/dist-packages (from gradio) (1.8.0)\n",
            "Requirement already satisfied: groovy~=0.1 in /usr/local/lib/python3.11/dist-packages (from gradio) (0.1.2)\n",
            "Requirement already satisfied: httpx>=0.24.1 in /usr/local/lib/python3.11/dist-packages (from gradio) (0.28.1)\n",
            "Requirement already satisfied: huggingface-hub>=0.28.1 in /usr/local/lib/python3.11/dist-packages (from gradio) (0.30.1)\n",
            "Requirement already satisfied: jinja2<4.0 in /usr/local/lib/python3.11/dist-packages (from gradio) (3.1.6)\n",
            "Requirement already satisfied: markupsafe<4.0,>=2.0 in /usr/local/lib/python3.11/dist-packages (from gradio) (3.0.2)\n",
            "Requirement already satisfied: numpy<3.0,>=1.0 in /usr/local/lib/python3.11/dist-packages (from gradio) (2.0.2)\n",
            "Requirement already satisfied: orjson~=3.0 in /usr/local/lib/python3.11/dist-packages (from gradio) (3.10.16)\n",
            "Requirement already satisfied: packaging in /usr/local/lib/python3.11/dist-packages (from gradio) (24.2)\n",
            "Requirement already satisfied: pandas<3.0,>=1.0 in /usr/local/lib/python3.11/dist-packages (from gradio) (2.2.2)\n",
            "Requirement already satisfied: pillow<12.0,>=8.0 in /usr/local/lib/python3.11/dist-packages (from gradio) (11.1.0)\n",
            "Requirement already satisfied: pydantic<2.12,>=2.0 in /usr/local/lib/python3.11/dist-packages (from gradio) (2.11.2)\n",
            "Requirement already satisfied: pydub in /usr/local/lib/python3.11/dist-packages (from gradio) (0.25.1)\n",
            "Requirement already satisfied: python-multipart>=0.0.18 in /usr/local/lib/python3.11/dist-packages (from gradio) (0.0.20)\n",
            "Requirement already satisfied: pyyaml<7.0,>=5.0 in /usr/local/lib/python3.11/dist-packages (from gradio) (6.0.2)\n",
            "Requirement already satisfied: ruff>=0.9.3 in /usr/local/lib/python3.11/dist-packages (from gradio) (0.11.5)\n",
            "Requirement already satisfied: safehttpx<0.2.0,>=0.1.6 in /usr/local/lib/python3.11/dist-packages (from gradio) (0.1.6)\n",
            "Requirement already satisfied: semantic-version~=2.0 in /usr/local/lib/python3.11/dist-packages (from gradio) (2.10.0)\n",
            "Requirement already satisfied: starlette<1.0,>=0.40.0 in /usr/local/lib/python3.11/dist-packages (from gradio) (0.46.1)\n",
            "Requirement already satisfied: tomlkit<0.14.0,>=0.12.0 in /usr/local/lib/python3.11/dist-packages (from gradio) (0.13.2)\n",
            "Requirement already satisfied: typer<1.0,>=0.12 in /usr/local/lib/python3.11/dist-packages (from gradio) (0.15.2)\n",
            "Requirement already satisfied: typing-extensions~=4.0 in /usr/local/lib/python3.11/dist-packages (from gradio) (4.13.1)\n",
            "Requirement already satisfied: uvicorn>=0.14.0 in /usr/local/lib/python3.11/dist-packages (from gradio) (0.34.0)\n",
            "Requirement already satisfied: fsspec in /usr/local/lib/python3.11/dist-packages (from gradio-client==1.8.0->gradio) (2025.3.2)\n",
            "Requirement already satisfied: websockets<16.0,>=10.0 in /usr/local/lib/python3.11/dist-packages (from gradio-client==1.8.0->gradio) (15.0.1)\n",
            "Requirement already satisfied: idna>=2.8 in /usr/local/lib/python3.11/dist-packages (from anyio<5.0,>=3.0->gradio) (3.10)\n",
            "Requirement already satisfied: sniffio>=1.1 in /usr/local/lib/python3.11/dist-packages (from anyio<5.0,>=3.0->gradio) (1.3.1)\n",
            "Requirement already satisfied: certifi in /usr/local/lib/python3.11/dist-packages (from httpx>=0.24.1->gradio) (2025.1.31)\n",
            "Requirement already satisfied: httpcore==1.* in /usr/local/lib/python3.11/dist-packages (from httpx>=0.24.1->gradio) (1.0.7)\n",
            "Requirement already satisfied: h11<0.15,>=0.13 in /usr/local/lib/python3.11/dist-packages (from httpcore==1.*->httpx>=0.24.1->gradio) (0.14.0)\n",
            "Requirement already satisfied: filelock in /usr/local/lib/python3.11/dist-packages (from huggingface-hub>=0.28.1->gradio) (3.18.0)\n",
            "Requirement already satisfied: requests in /usr/local/lib/python3.11/dist-packages (from huggingface-hub>=0.28.1->gradio) (2.32.3)\n",
            "Requirement already satisfied: tqdm>=4.42.1 in /usr/local/lib/python3.11/dist-packages (from huggingface-hub>=0.28.1->gradio) (4.67.1)\n",
            "Requirement already satisfied: python-dateutil>=2.8.2 in /usr/local/lib/python3.11/dist-packages (from pandas<3.0,>=1.0->gradio) (2.8.2)\n",
            "Requirement already satisfied: pytz>=2020.1 in /usr/local/lib/python3.11/dist-packages (from pandas<3.0,>=1.0->gradio) (2025.2)\n",
            "Requirement already satisfied: tzdata>=2022.7 in /usr/local/lib/python3.11/dist-packages (from pandas<3.0,>=1.0->gradio) (2025.2)\n",
            "Requirement already satisfied: annotated-types>=0.6.0 in /usr/local/lib/python3.11/dist-packages (from pydantic<2.12,>=2.0->gradio) (0.7.0)\n",
            "Requirement already satisfied: pydantic-core==2.33.1 in /usr/local/lib/python3.11/dist-packages (from pydantic<2.12,>=2.0->gradio) (2.33.1)\n",
            "Requirement already satisfied: typing-inspection>=0.4.0 in /usr/local/lib/python3.11/dist-packages (from pydantic<2.12,>=2.0->gradio) (0.4.0)\n",
            "Requirement already satisfied: click>=8.0.0 in /usr/local/lib/python3.11/dist-packages (from typer<1.0,>=0.12->gradio) (8.1.8)\n",
            "Requirement already satisfied: shellingham>=1.3.0 in /usr/local/lib/python3.11/dist-packages (from typer<1.0,>=0.12->gradio) (1.5.4)\n",
            "Requirement already satisfied: rich>=10.11.0 in /usr/local/lib/python3.11/dist-packages (from typer<1.0,>=0.12->gradio) (13.9.4)\n",
            "Requirement already satisfied: six>=1.5 in /usr/local/lib/python3.11/dist-packages (from python-dateutil>=2.8.2->pandas<3.0,>=1.0->gradio) (1.17.0)\n",
            "Requirement already satisfied: markdown-it-py>=2.2.0 in /usr/local/lib/python3.11/dist-packages (from rich>=10.11.0->typer<1.0,>=0.12->gradio) (3.0.0)\n",
            "Requirement already satisfied: pygments<3.0.0,>=2.13.0 in /usr/local/lib/python3.11/dist-packages (from rich>=10.11.0->typer<1.0,>=0.12->gradio) (2.18.0)\n",
            "Requirement already satisfied: charset-normalizer<4,>=2 in /usr/local/lib/python3.11/dist-packages (from requests->huggingface-hub>=0.28.1->gradio) (3.4.1)\n",
            "Requirement already satisfied: urllib3<3,>=1.21.1 in /usr/local/lib/python3.11/dist-packages (from requests->huggingface-hub>=0.28.1->gradio) (2.3.0)\n",
            "Requirement already satisfied: mdurl~=0.1 in /usr/local/lib/python3.11/dist-packages (from markdown-it-py>=2.2.0->rich>=10.11.0->typer<1.0,>=0.12->gradio) (0.1.2)\n"
          ]
        }
      ]
    },
    {
      "cell_type": "code",
      "source": [
        "import numpy as np\n",
        "import gradio as gr\n",
        "import torch\n",
        "import matplotlib.pyplot as plt\n",
        "from transformers import AutoModelForSequenceClassification, AutoTokenizer, pipeline"
      ],
      "metadata": {
        "id": "2eZeSSxy43l3"
      },
      "id": "2eZeSSxy43l3",
      "execution_count": 30,
      "outputs": []
    },
    {
      "cell_type": "markdown",
      "source": [
        "#Loading the Model"
      ],
      "metadata": {
        "id": "SZ0lEJKbGttk"
      },
      "id": "SZ0lEJKbGttk"
    },
    {
      "cell_type": "code",
      "source": [
        "model = None  # Initialize model variable\n",
        "try:\n",
        "    # Load the model from the specified path\n",
        "    model = AutoModelForSequenceClassification.from_pretrained(\"/content/contentsaved_model_bert_sentiment\")\n",
        "    model_weights = torch.load(\"//content/contentsaved_model_bert_sentiment/model.safetensors\")\n",
        "    model.load_state_dict(model_weights)\n",
        "except Exception as e:\n",
        "    print(f\"Error loading model: {str(e)}\")  # Print error message if loading fails"
      ],
      "metadata": {
        "colab": {
          "base_uri": "https://localhost:8080/"
        },
        "id": "GYsDRlgXGdYC",
        "outputId": "ea2cac17-e545-42d5-a52f-fc38c4ec48b1"
      },
      "id": "GYsDRlgXGdYC",
      "execution_count": 31,
      "outputs": [
        {
          "output_type": "stream",
          "name": "stdout",
          "text": [
            "Error loading model: Weights only load failed. In PyTorch 2.6, we changed the default value of the `weights_only` argument in `torch.load` from `False` to `True`. Re-running `torch.load` with `weights_only` set to `False` will likely succeed, but it can result in arbitrary code execution. Do it only if you got the file from a trusted source.\n",
            "Please file an issue with the following so that we can make `weights_only=True` compatible with your use case: WeightsUnpickler error: Unsupported operand 232\n",
            "\n",
            "Check the documentation of torch.load to learn more about types accepted by default with weights_only https://pytorch.org/docs/stable/generated/torch.load.html.\n"
          ]
        }
      ]
    },
    {
      "cell_type": "markdown",
      "source": [
        "# Load the tokenizer"
      ],
      "metadata": {
        "id": "b1qmGxTLG9MR"
      },
      "id": "b1qmGxTLG9MR"
    },
    {
      "cell_type": "code",
      "source": [
        "tokenizer = AutoTokenizer.from_pretrained(\"/content/contentsaved_model_bert_sentiment\")"
      ],
      "metadata": {
        "id": "btj8M4qeG7hp"
      },
      "id": "btj8M4qeG7hp",
      "execution_count": 32,
      "outputs": []
    },
    {
      "cell_type": "markdown",
      "source": [
        "# Set up the sentiment analysis pipeline"
      ],
      "metadata": {
        "id": "3oQ_2KeDHGA5"
      },
      "id": "3oQ_2KeDHGA5"
    },
    {
      "cell_type": "code",
      "source": [
        "if model is not None:\n",
        "    sentiment_pipeline = pipeline(\"sentiment-analysis\", model=model, tokenizer=tokenizer)\n",
        "else:\n",
        "    sentiment_pipeline = None  # Set pipeline to None if model is not loaded"
      ],
      "metadata": {
        "colab": {
          "base_uri": "https://localhost:8080/"
        },
        "id": "7dnv0BaOHBCd",
        "outputId": "f3984100-1840-485d-acef-c80a12680512"
      },
      "id": "7dnv0BaOHBCd",
      "execution_count": 33,
      "outputs": [
        {
          "output_type": "stream",
          "name": "stderr",
          "text": [
            "Device set to use cpu\n"
          ]
        }
      ]
    },
    {
      "cell_type": "markdown",
      "source": [
        "#Review Classification Function with Plot"
      ],
      "metadata": {
        "id": "hXrevI4bHOqu"
      },
      "id": "hXrevI4bHOqu"
    },
    {
      "cell_type": "code",
      "source": [
        "def classify_review_with_plot(review):\n",
        "    if sentiment_pipeline is None:\n",
        "        return \"Error: Sentiment analysis model is not loaded.\", None  # Error message if model is not loaded\n",
        "\n",
        "    try:\n",
        "        result = sentiment_pipeline(review)  # Analyze sentiment for the review\n",
        "        label = result[0]['label']  # Get the label from the model\n",
        "        score = result[0]['score']  # Confidence score\n",
        "\n",
        "        # Create a mapping for labels\n",
        "        label_mapping = {\n",
        "            \"LABEL_0\": \"NEGATIVE\",  # Assuming LABEL_0 corresponds to negative sentiment\n",
        "            \"LABEL_1\": \"NEUTRAL\",   # Assuming LABEL_1 corresponds to neutral sentiment\n",
        "            \"LABEL_2\": \"POSITIVE\"    # Assuming LABEL_2 corresponds to positive sentiment\n",
        "        }\n",
        "\n",
        "        # Map the label to a human-readable format\n",
        "        human_readable_label = label_mapping.get(label, \"UNKNOWN\")  # Default to \"UNKNOWN\" if label is not found\n",
        "\n",
        "        # Prepare values for the bar chart\n",
        "        labels = [\"Positive\", \"Negative\", \"Neutral\"]\n",
        "        values = [0, 0, 0]  # Initialize values for each category\n",
        "\n",
        "        # Set values based on the mapped label\n",
        "        if human_readable_label == \"POSITIVE\":\n",
        "            values[0] = score\n",
        "        elif human_readable_label == \"NEGATIVE\":\n",
        "            values[1] = score\n",
        "        elif human_readable_label == \"NEUTRAL\":\n",
        "            values[2] = score\n",
        "\n",
        "        # Create a bar chart\n",
        "        fig, ax = plt.subplots()\n",
        "        ax.bar(labels, values, color=[\"green\", \"red\", \"blue\"])\n",
        "        ax.set_ylabel(\"Confidence Score\")\n",
        "        ax.set_title(\"Review Classification\")\n",
        "\n",
        "        # Return the sentiment label and score\n",
        "        sentiment_result = f\"Sentiment: {human_readable_label}, Score: {score:.2f}\"\n",
        "        return sentiment_result, fig\n",
        "    except Exception as e:\n",
        "        return f\"Error: {str(e)}\", None  # Error message if an exception occurs"
      ],
      "metadata": {
        "id": "oEjrmwQGJb_I"
      },
      "id": "oEjrmwQGJb_I",
      "execution_count": 40,
      "outputs": []
    },
    {
      "cell_type": "markdown",
      "source": [
        "# Set up Gradio interface"
      ],
      "metadata": {
        "id": "QcmA9ryaHYnm"
      },
      "id": "QcmA9ryaHYnm"
    },
    {
      "cell_type": "code",
      "source": [
        "with gr.Blocks() as app:\n",
        "    gr.Markdown(\"## Review Analysis Application\")  # Application title\n",
        "\n",
        "    with gr.Tab(\"Review Classification\"):  # Review classification tab\n",
        "        review_input = gr.Textbox(label=\"Enter your review here\", placeholder=\"Type your review here...\")  # Review input field\n",
        "        classify_button = gr.Button(\"Classify\")  # Classification button\n",
        "        classification_output = gr.Textbox(label=\"Classification Result\")  # Classification result output field\n",
        "        chart_output = gr.Plot(label=\"Graphical Results\")  # Graphical results output field\n",
        "\n",
        "        # Link the button to the function\n",
        "        classify_button.click(classify_review_with_plot, inputs=review_input, outputs=[classification_output, chart_output])\n"
      ],
      "metadata": {
        "id": "pNQJzDkxHAh5"
      },
      "id": "pNQJzDkxHAh5",
      "execution_count": 41,
      "outputs": []
    },
    {
      "cell_type": "markdown",
      "source": [
        "# Launch the application"
      ],
      "metadata": {
        "id": "5uFd0uOPHfip"
      },
      "id": "5uFd0uOPHfip"
    },
    {
      "cell_type": "code",
      "source": [
        "app.launch(share=True)"
      ],
      "metadata": {
        "colab": {
          "base_uri": "https://localhost:8080/",
          "height": 611
        },
        "id": "CIzx1hpwHdnU",
        "outputId": "759c8e70-d476-4d7a-9db8-406eeee00892"
      },
      "id": "CIzx1hpwHdnU",
      "execution_count": 42,
      "outputs": [
        {
          "output_type": "stream",
          "name": "stdout",
          "text": [
            "Colab notebook detected. To show errors in colab notebook, set debug=True in launch()\n",
            "* Running on public URL: https://c7f4869b820d2753d0.gradio.live\n",
            "\n",
            "This share link expires in 72 hours. For free permanent hosting and GPU upgrades, run `gradio deploy` from the terminal in the working directory to deploy to Hugging Face Spaces (https://huggingface.co/spaces)\n"
          ]
        },
        {
          "output_type": "display_data",
          "data": {
            "text/plain": [
              "<IPython.core.display.HTML object>"
            ],
            "text/html": [
              "<div><iframe src=\"https://c7f4869b820d2753d0.gradio.live\" width=\"100%\" height=\"500\" allow=\"autoplay; camera; microphone; clipboard-read; clipboard-write;\" frameborder=\"0\" allowfullscreen></iframe></div>"
            ]
          },
          "metadata": {}
        },
        {
          "output_type": "execute_result",
          "data": {
            "text/plain": []
          },
          "metadata": {},
          "execution_count": 42
        }
      ]
    }
  ],
  "metadata": {
    "language_info": {
      "name": "python"
    },
    "colab": {
      "provenance": [],
      "machine_shape": "hm",
      "gpuType": "T4"
    },
    "kernelspec": {
      "name": "python3",
      "display_name": "Python 3"
    },
    "accelerator": "GPU"
  },
  "nbformat": 4,
  "nbformat_minor": 5
}